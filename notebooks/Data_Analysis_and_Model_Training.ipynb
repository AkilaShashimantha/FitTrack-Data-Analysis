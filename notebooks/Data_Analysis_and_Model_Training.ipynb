{
 "cells": [
  {
   "cell_type": "code",
   "execution_count": 1,
   "metadata": {
    "tags": [
     "setup"
    ]
   },
   "outputs": [
    {
     "name": "stdout",
     "output_type": "stream",
     "text": [
      "Note: you may need to restart the kernel to use updated packages.\n"
     ]
    }
   ],
   "source": [
    "%pip install -q -r ../requirements.txt\n"
   ]
  },
  {
   "cell_type": "markdown",
   "metadata": {},
   "source": [
    "# Step 1: Project Setup and Data Loading\n",
    "\n",
    "First, we import the necessary libraries for data manipulation, visualization, and machine learning. We then define the paths to our datasets and load them into pandas DataFrames."
   ]
  },
  {
   "cell_type": "code",
   "execution_count": 2,
   "metadata": {},
   "outputs": [
    {
     "name": "stdout",
     "output_type": "stream",
     "text": [
      "Activity Data Head:\n"
     ]
    },
    {
     "data": {
      "text/html": [
       "<div>\n",
       "<style scoped>\n",
       "    .dataframe tbody tr th:only-of-type {\n",
       "        vertical-align: middle;\n",
       "    }\n",
       "\n",
       "    .dataframe tbody tr th {\n",
       "        vertical-align: top;\n",
       "    }\n",
       "\n",
       "    .dataframe thead th {\n",
       "        text-align: right;\n",
       "    }\n",
       "</style>\n",
       "<table border=\"1\" class=\"dataframe\">\n",
       "  <thead>\n",
       "    <tr style=\"text-align: right;\">\n",
       "      <th></th>\n",
       "      <th>Id</th>\n",
       "      <th>ActivityDate</th>\n",
       "      <th>TotalSteps</th>\n",
       "      <th>TotalDistance</th>\n",
       "      <th>TrackerDistance</th>\n",
       "      <th>LoggedActivitiesDistance</th>\n",
       "      <th>VeryActiveDistance</th>\n",
       "      <th>ModeratelyActiveDistance</th>\n",
       "      <th>LightActiveDistance</th>\n",
       "      <th>SedentaryActiveDistance</th>\n",
       "      <th>VeryActiveMinutes</th>\n",
       "      <th>FairlyActiveMinutes</th>\n",
       "      <th>LightlyActiveMinutes</th>\n",
       "      <th>SedentaryMinutes</th>\n",
       "      <th>Calories</th>\n",
       "    </tr>\n",
       "  </thead>\n",
       "  <tbody>\n",
       "    <tr>\n",
       "      <th>0</th>\n",
       "      <td>1503960366</td>\n",
       "      <td>4/12/2016</td>\n",
       "      <td>13162</td>\n",
       "      <td>8.50</td>\n",
       "      <td>8.50</td>\n",
       "      <td>0.0</td>\n",
       "      <td>1.88</td>\n",
       "      <td>0.55</td>\n",
       "      <td>6.06</td>\n",
       "      <td>0.0</td>\n",
       "      <td>25</td>\n",
       "      <td>13</td>\n",
       "      <td>328</td>\n",
       "      <td>728</td>\n",
       "      <td>1985</td>\n",
       "    </tr>\n",
       "    <tr>\n",
       "      <th>1</th>\n",
       "      <td>1503960366</td>\n",
       "      <td>4/13/2016</td>\n",
       "      <td>10735</td>\n",
       "      <td>6.97</td>\n",
       "      <td>6.97</td>\n",
       "      <td>0.0</td>\n",
       "      <td>1.57</td>\n",
       "      <td>0.69</td>\n",
       "      <td>4.71</td>\n",
       "      <td>0.0</td>\n",
       "      <td>21</td>\n",
       "      <td>19</td>\n",
       "      <td>217</td>\n",
       "      <td>776</td>\n",
       "      <td>1797</td>\n",
       "    </tr>\n",
       "    <tr>\n",
       "      <th>2</th>\n",
       "      <td>1503960366</td>\n",
       "      <td>4/14/2016</td>\n",
       "      <td>10460</td>\n",
       "      <td>6.74</td>\n",
       "      <td>6.74</td>\n",
       "      <td>0.0</td>\n",
       "      <td>2.44</td>\n",
       "      <td>0.40</td>\n",
       "      <td>3.91</td>\n",
       "      <td>0.0</td>\n",
       "      <td>30</td>\n",
       "      <td>11</td>\n",
       "      <td>181</td>\n",
       "      <td>1218</td>\n",
       "      <td>1776</td>\n",
       "    </tr>\n",
       "    <tr>\n",
       "      <th>3</th>\n",
       "      <td>1503960366</td>\n",
       "      <td>4/15/2016</td>\n",
       "      <td>9762</td>\n",
       "      <td>6.28</td>\n",
       "      <td>6.28</td>\n",
       "      <td>0.0</td>\n",
       "      <td>2.14</td>\n",
       "      <td>1.26</td>\n",
       "      <td>2.83</td>\n",
       "      <td>0.0</td>\n",
       "      <td>29</td>\n",
       "      <td>34</td>\n",
       "      <td>209</td>\n",
       "      <td>726</td>\n",
       "      <td>1745</td>\n",
       "    </tr>\n",
       "    <tr>\n",
       "      <th>4</th>\n",
       "      <td>1503960366</td>\n",
       "      <td>4/16/2016</td>\n",
       "      <td>12669</td>\n",
       "      <td>8.16</td>\n",
       "      <td>8.16</td>\n",
       "      <td>0.0</td>\n",
       "      <td>2.71</td>\n",
       "      <td>0.41</td>\n",
       "      <td>5.04</td>\n",
       "      <td>0.0</td>\n",
       "      <td>36</td>\n",
       "      <td>10</td>\n",
       "      <td>221</td>\n",
       "      <td>773</td>\n",
       "      <td>1863</td>\n",
       "    </tr>\n",
       "  </tbody>\n",
       "</table>\n",
       "</div>"
      ],
      "text/plain": [
       "           Id ActivityDate  TotalSteps  TotalDistance  TrackerDistance  \\\n",
       "0  1503960366    4/12/2016       13162           8.50             8.50   \n",
       "1  1503960366    4/13/2016       10735           6.97             6.97   \n",
       "2  1503960366    4/14/2016       10460           6.74             6.74   \n",
       "3  1503960366    4/15/2016        9762           6.28             6.28   \n",
       "4  1503960366    4/16/2016       12669           8.16             8.16   \n",
       "\n",
       "   LoggedActivitiesDistance  VeryActiveDistance  ModeratelyActiveDistance  \\\n",
       "0                       0.0                1.88                      0.55   \n",
       "1                       0.0                1.57                      0.69   \n",
       "2                       0.0                2.44                      0.40   \n",
       "3                       0.0                2.14                      1.26   \n",
       "4                       0.0                2.71                      0.41   \n",
       "\n",
       "   LightActiveDistance  SedentaryActiveDistance  VeryActiveMinutes  \\\n",
       "0                 6.06                      0.0                 25   \n",
       "1                 4.71                      0.0                 21   \n",
       "2                 3.91                      0.0                 30   \n",
       "3                 2.83                      0.0                 29   \n",
       "4                 5.04                      0.0                 36   \n",
       "\n",
       "   FairlyActiveMinutes  LightlyActiveMinutes  SedentaryMinutes  Calories  \n",
       "0                   13                   328               728      1985  \n",
       "1                   19                   217               776      1797  \n",
       "2                   11                   181              1218      1776  \n",
       "3                   34                   209               726      1745  \n",
       "4                   10                   221               773      1863  "
      ]
     },
     "metadata": {},
     "output_type": "display_data"
    },
    {
     "name": "stdout",
     "output_type": "stream",
     "text": [
      "\n",
      "Sleep Data Head:\n"
     ]
    },
    {
     "data": {
      "text/html": [
       "<div>\n",
       "<style scoped>\n",
       "    .dataframe tbody tr th:only-of-type {\n",
       "        vertical-align: middle;\n",
       "    }\n",
       "\n",
       "    .dataframe tbody tr th {\n",
       "        vertical-align: top;\n",
       "    }\n",
       "\n",
       "    .dataframe thead th {\n",
       "        text-align: right;\n",
       "    }\n",
       "</style>\n",
       "<table border=\"1\" class=\"dataframe\">\n",
       "  <thead>\n",
       "    <tr style=\"text-align: right;\">\n",
       "      <th></th>\n",
       "      <th>Id</th>\n",
       "      <th>SleepDay</th>\n",
       "      <th>TotalSleepRecords</th>\n",
       "      <th>TotalMinutesAsleep</th>\n",
       "      <th>TotalTimeInBed</th>\n",
       "    </tr>\n",
       "  </thead>\n",
       "  <tbody>\n",
       "    <tr>\n",
       "      <th>0</th>\n",
       "      <td>1503960366</td>\n",
       "      <td>4/12/2016 12:00:00 AM</td>\n",
       "      <td>1</td>\n",
       "      <td>327</td>\n",
       "      <td>346</td>\n",
       "    </tr>\n",
       "    <tr>\n",
       "      <th>1</th>\n",
       "      <td>1503960366</td>\n",
       "      <td>4/13/2016 12:00:00 AM</td>\n",
       "      <td>2</td>\n",
       "      <td>384</td>\n",
       "      <td>407</td>\n",
       "    </tr>\n",
       "    <tr>\n",
       "      <th>2</th>\n",
       "      <td>1503960366</td>\n",
       "      <td>4/15/2016 12:00:00 AM</td>\n",
       "      <td>1</td>\n",
       "      <td>412</td>\n",
       "      <td>442</td>\n",
       "    </tr>\n",
       "    <tr>\n",
       "      <th>3</th>\n",
       "      <td>1503960366</td>\n",
       "      <td>4/16/2016 12:00:00 AM</td>\n",
       "      <td>2</td>\n",
       "      <td>340</td>\n",
       "      <td>367</td>\n",
       "    </tr>\n",
       "    <tr>\n",
       "      <th>4</th>\n",
       "      <td>1503960366</td>\n",
       "      <td>4/17/2016 12:00:00 AM</td>\n",
       "      <td>1</td>\n",
       "      <td>700</td>\n",
       "      <td>712</td>\n",
       "    </tr>\n",
       "  </tbody>\n",
       "</table>\n",
       "</div>"
      ],
      "text/plain": [
       "           Id               SleepDay  TotalSleepRecords  TotalMinutesAsleep  \\\n",
       "0  1503960366  4/12/2016 12:00:00 AM                  1                 327   \n",
       "1  1503960366  4/13/2016 12:00:00 AM                  2                 384   \n",
       "2  1503960366  4/15/2016 12:00:00 AM                  1                 412   \n",
       "3  1503960366  4/16/2016 12:00:00 AM                  2                 340   \n",
       "4  1503960366  4/17/2016 12:00:00 AM                  1                 700   \n",
       "\n",
       "   TotalTimeInBed  \n",
       "0             346  \n",
       "1             407  \n",
       "2             442  \n",
       "3             367  \n",
       "4             712  "
      ]
     },
     "metadata": {},
     "output_type": "display_data"
    }
   ],
   "source": [
    "import pandas as pd\n",
    "import numpy as np\n",
    "import os\n",
    "import joblib\n",
    "import plotly.express as px\n",
    "import plotly.graph_objects as go\n",
    "from sklearn.model_selection import train_test_split\n",
    "from sklearn.preprocessing import StandardScaler\n",
    "from sklearn.linear_model import LinearRegression, Ridge, Lasso\n",
    "from sklearn.ensemble import RandomForestRegressor, GradientBoostingRegressor\n",
    "from sklearn.metrics import mean_absolute_error, mean_squared_error, r2_score\n",
    "\n",
    "# Define file paths\n",
    "project_root = os.path.abspath(os.path.join(os.getcwd(), os.pardir))\n",
    "data_path = os.path.join(project_root, 'data')\n",
    "activity_file = os.path.join(data_path, 'dailyActivity_merged.csv')\n",
    "sleep_file = os.path.join(data_path, 'sleepDay_merged.csv')\n",
    "\n",
    "# Load the datasets\n",
    "df_activity = pd.read_csv(activity_file)\n",
    "df_sleep = pd.read_csv(sleep_file)\n",
    "\n",
    "print(\"Activity Data Head:\")\n",
    "display(df_activity.head())\n",
    "print(\"\\nSleep Data Head:\")\n",
    "display(df_sleep.head())"
   ]
  },
  {
   "cell_type": "markdown",
   "metadata": {},
   "source": [
    "# Step 2: Data Cleaning and Merging\n",
    "\n",
    "To analyze activity and sleep together, we need a single dataset. Here, we'll perform the following cleaning steps:\n",
    "1.  **Convert date columns** to a consistent `datetime` format.\n",
    "2.  **Merge** the two DataFrames on `Id` and the date.\n",
    "3.  **Drop** unnecessary columns.\n",
    "4.  **Remove** any duplicate entries."
   ]
  },
  {
   "cell_type": "code",
   "execution_count": 3,
   "metadata": {},
   "outputs": [
    {
     "name": "stdout",
     "output_type": "stream",
     "text": [
      "Merged and Cleaned Data Info:\n",
      "<class 'pandas.core.frame.DataFrame'>\n",
      "Index: 410 entries, 0 to 412\n",
      "Data columns (total 16 columns):\n",
      " #   Column                    Non-Null Count  Dtype         \n",
      "---  ------                    --------------  -----         \n",
      " 0   Id                        410 non-null    int64         \n",
      " 1   ActivityDate              410 non-null    datetime64[ns]\n",
      " 2   TotalSteps                410 non-null    int64         \n",
      " 3   TotalDistance             410 non-null    float64       \n",
      " 4   VeryActiveDistance        410 non-null    float64       \n",
      " 5   ModeratelyActiveDistance  410 non-null    float64       \n",
      " 6   LightActiveDistance       410 non-null    float64       \n",
      " 7   SedentaryActiveDistance   410 non-null    float64       \n",
      " 8   VeryActiveMinutes         410 non-null    int64         \n",
      " 9   FairlyActiveMinutes       410 non-null    int64         \n",
      " 10  LightlyActiveMinutes      410 non-null    int64         \n",
      " 11  SedentaryMinutes          410 non-null    int64         \n",
      " 12  Calories                  410 non-null    int64         \n",
      " 13  TotalSleepRecords         410 non-null    int64         \n",
      " 14  TotalMinutesAsleep        410 non-null    int64         \n",
      " 15  TotalTimeInBed            410 non-null    int64         \n",
      "dtypes: datetime64[ns](1), float64(5), int64(10)\n",
      "memory usage: 54.5 KB\n",
      "\n",
      "First 5 rows of merged data:\n"
     ]
    },
    {
     "data": {
      "text/html": [
       "<div>\n",
       "<style scoped>\n",
       "    .dataframe tbody tr th:only-of-type {\n",
       "        vertical-align: middle;\n",
       "    }\n",
       "\n",
       "    .dataframe tbody tr th {\n",
       "        vertical-align: top;\n",
       "    }\n",
       "\n",
       "    .dataframe thead th {\n",
       "        text-align: right;\n",
       "    }\n",
       "</style>\n",
       "<table border=\"1\" class=\"dataframe\">\n",
       "  <thead>\n",
       "    <tr style=\"text-align: right;\">\n",
       "      <th></th>\n",
       "      <th>Id</th>\n",
       "      <th>ActivityDate</th>\n",
       "      <th>TotalSteps</th>\n",
       "      <th>TotalDistance</th>\n",
       "      <th>VeryActiveDistance</th>\n",
       "      <th>ModeratelyActiveDistance</th>\n",
       "      <th>LightActiveDistance</th>\n",
       "      <th>SedentaryActiveDistance</th>\n",
       "      <th>VeryActiveMinutes</th>\n",
       "      <th>FairlyActiveMinutes</th>\n",
       "      <th>LightlyActiveMinutes</th>\n",
       "      <th>SedentaryMinutes</th>\n",
       "      <th>Calories</th>\n",
       "      <th>TotalSleepRecords</th>\n",
       "      <th>TotalMinutesAsleep</th>\n",
       "      <th>TotalTimeInBed</th>\n",
       "    </tr>\n",
       "  </thead>\n",
       "  <tbody>\n",
       "    <tr>\n",
       "      <th>0</th>\n",
       "      <td>1503960366</td>\n",
       "      <td>2016-04-12</td>\n",
       "      <td>13162</td>\n",
       "      <td>8.50</td>\n",
       "      <td>1.88</td>\n",
       "      <td>0.55</td>\n",
       "      <td>6.06</td>\n",
       "      <td>0.0</td>\n",
       "      <td>25</td>\n",
       "      <td>13</td>\n",
       "      <td>328</td>\n",
       "      <td>728</td>\n",
       "      <td>1985</td>\n",
       "      <td>1</td>\n",
       "      <td>327</td>\n",
       "      <td>346</td>\n",
       "    </tr>\n",
       "    <tr>\n",
       "      <th>1</th>\n",
       "      <td>1503960366</td>\n",
       "      <td>2016-04-13</td>\n",
       "      <td>10735</td>\n",
       "      <td>6.97</td>\n",
       "      <td>1.57</td>\n",
       "      <td>0.69</td>\n",
       "      <td>4.71</td>\n",
       "      <td>0.0</td>\n",
       "      <td>21</td>\n",
       "      <td>19</td>\n",
       "      <td>217</td>\n",
       "      <td>776</td>\n",
       "      <td>1797</td>\n",
       "      <td>2</td>\n",
       "      <td>384</td>\n",
       "      <td>407</td>\n",
       "    </tr>\n",
       "    <tr>\n",
       "      <th>2</th>\n",
       "      <td>1503960366</td>\n",
       "      <td>2016-04-15</td>\n",
       "      <td>9762</td>\n",
       "      <td>6.28</td>\n",
       "      <td>2.14</td>\n",
       "      <td>1.26</td>\n",
       "      <td>2.83</td>\n",
       "      <td>0.0</td>\n",
       "      <td>29</td>\n",
       "      <td>34</td>\n",
       "      <td>209</td>\n",
       "      <td>726</td>\n",
       "      <td>1745</td>\n",
       "      <td>1</td>\n",
       "      <td>412</td>\n",
       "      <td>442</td>\n",
       "    </tr>\n",
       "    <tr>\n",
       "      <th>3</th>\n",
       "      <td>1503960366</td>\n",
       "      <td>2016-04-16</td>\n",
       "      <td>12669</td>\n",
       "      <td>8.16</td>\n",
       "      <td>2.71</td>\n",
       "      <td>0.41</td>\n",
       "      <td>5.04</td>\n",
       "      <td>0.0</td>\n",
       "      <td>36</td>\n",
       "      <td>10</td>\n",
       "      <td>221</td>\n",
       "      <td>773</td>\n",
       "      <td>1863</td>\n",
       "      <td>2</td>\n",
       "      <td>340</td>\n",
       "      <td>367</td>\n",
       "    </tr>\n",
       "    <tr>\n",
       "      <th>4</th>\n",
       "      <td>1503960366</td>\n",
       "      <td>2016-04-17</td>\n",
       "      <td>9705</td>\n",
       "      <td>6.48</td>\n",
       "      <td>3.19</td>\n",
       "      <td>0.78</td>\n",
       "      <td>2.51</td>\n",
       "      <td>0.0</td>\n",
       "      <td>38</td>\n",
       "      <td>20</td>\n",
       "      <td>164</td>\n",
       "      <td>539</td>\n",
       "      <td>1728</td>\n",
       "      <td>1</td>\n",
       "      <td>700</td>\n",
       "      <td>712</td>\n",
       "    </tr>\n",
       "  </tbody>\n",
       "</table>\n",
       "</div>"
      ],
      "text/plain": [
       "           Id ActivityDate  TotalSteps  TotalDistance  VeryActiveDistance  \\\n",
       "0  1503960366   2016-04-12       13162           8.50                1.88   \n",
       "1  1503960366   2016-04-13       10735           6.97                1.57   \n",
       "2  1503960366   2016-04-15        9762           6.28                2.14   \n",
       "3  1503960366   2016-04-16       12669           8.16                2.71   \n",
       "4  1503960366   2016-04-17        9705           6.48                3.19   \n",
       "\n",
       "   ModeratelyActiveDistance  LightActiveDistance  SedentaryActiveDistance  \\\n",
       "0                      0.55                 6.06                      0.0   \n",
       "1                      0.69                 4.71                      0.0   \n",
       "2                      1.26                 2.83                      0.0   \n",
       "3                      0.41                 5.04                      0.0   \n",
       "4                      0.78                 2.51                      0.0   \n",
       "\n",
       "   VeryActiveMinutes  FairlyActiveMinutes  LightlyActiveMinutes  \\\n",
       "0                 25                   13                   328   \n",
       "1                 21                   19                   217   \n",
       "2                 29                   34                   209   \n",
       "3                 36                   10                   221   \n",
       "4                 38                   20                   164   \n",
       "\n",
       "   SedentaryMinutes  Calories  TotalSleepRecords  TotalMinutesAsleep  \\\n",
       "0               728      1985                  1                 327   \n",
       "1               776      1797                  2                 384   \n",
       "2               726      1745                  1                 412   \n",
       "3               773      1863                  2                 340   \n",
       "4               539      1728                  1                 700   \n",
       "\n",
       "   TotalTimeInBed  \n",
       "0             346  \n",
       "1             407  \n",
       "2             442  \n",
       "3             367  \n",
       "4             712  "
      ]
     },
     "metadata": {},
     "output_type": "display_data"
    }
   ],
   "source": [
    "# Clean Activity Data\n",
    "df_activity['ActivityDate'] = pd.to_datetime(df_activity['ActivityDate'], format='%m/%d/%Y')\n",
    "\n",
    "# Clean Sleep Data\n",
    "df_sleep['SleepDay'] = pd.to_datetime(df_sleep['SleepDay'], format='%m/%d/%Y %I:%M:%S %p')\n",
    "df_sleep['ActivityDate'] = df_sleep['SleepDay'].dt.date\n",
    "df_sleep['ActivityDate'] = pd.to_datetime(df_sleep['ActivityDate'])\n",
    "\n",
    "# Merge DataFrames\n",
    "df_merged = pd.merge(df_activity, df_sleep, on=['Id', 'ActivityDate'], how='inner')\n",
    "\n",
    "# Final Cleaning\n",
    "df_merged = df_merged.drop(['TrackerDistance', 'LoggedActivitiesDistance', 'SleepDay'], axis=1)\n",
    "df_merged.drop_duplicates(inplace=True)\n",
    "\n",
    "print(\"Merged and Cleaned Data Info:\")\n",
    "df_merged.info()\n",
    "\n",
    "print(\"\\nFirst 5 rows of merged data:\")\n",
    "display(df_merged.head())"
   ]
  },
  {
   "cell_type": "markdown",
   "metadata": {},
   "source": [
    "# Step 3: Exploratory Data Analysis (EDA)\n",
    "\n",
    "Now we explore the cleaned data to find initial insights and relationships. We will visualize:\n",
    "1.  A **correlation heatmap** to see how different variables relate to each other.\n",
    "2.  A **scatter plot** to investigate the relationship between `TotalSteps` and `Calories` burned.\n",
    "3.  A **scatter plot** to see the connection between `VeryActiveMinutes` and `TotalMinutesAsleep`."
   ]
  },
  {
   "cell_type": "code",
   "execution_count": 4,
   "metadata": {
    "tags": [
     "eda-setup"
    ]
   },
   "outputs": [],
   "source": [
    "# Enable Plotly trendlines only if statsmodels is available\n",
    "try:\n",
    "    import statsmodels.api as sm  # noqa: F401\n",
    "    trendline_kind = 'ols'\n",
    "    _trendline_msg = None\n",
    "except Exception:\n",
    "    trendline_kind = None\n",
    "    _trendline_msg = \"statsmodels not installed; Plotly trendline disabled. Run `%pip install statsmodels` to enable OLS trendlines.\"\n",
    "\n",
    "if _trendline_msg:\n",
    "    print(_trendline_msg)\n"
   ]
  },
  {
   "cell_type": "code",
   "execution_count": 5,
   "metadata": {},
   "outputs": [
    {
     "data": {
      "application/vnd.plotly.v1+json": {
       "config": {
        "plotlyServerURL": "https://plot.ly"
       },
       "data": [
        {
         "colorscale": [
          [
           0,
           "#440154"
          ],
          [
           0.1111111111111111,
           "#482878"
          ],
          [
           0.2222222222222222,
           "#3e4989"
          ],
          [
           0.3333333333333333,
           "#31688e"
          ],
          [
           0.4444444444444444,
           "#26828e"
          ],
          [
           0.5555555555555556,
           "#1f9e89"
          ],
          [
           0.6666666666666666,
           "#35b779"
          ],
          [
           0.7777777777777778,
           "#6ece58"
          ],
          [
           0.8888888888888888,
           "#b5de2b"
          ],
          [
           1,
           "#fde725"
          ]
         ],
         "type": "heatmap",
         "x": [
          "Id",
          "TotalSteps",
          "TotalDistance",
          "VeryActiveDistance",
          "ModeratelyActiveDistance",
          "LightActiveDistance",
          "SedentaryActiveDistance",
          "VeryActiveMinutes",
          "FairlyActiveMinutes",
          "LightlyActiveMinutes",
          "SedentaryMinutes",
          "Calories",
          "TotalSleepRecords",
          "TotalMinutesAsleep",
          "TotalTimeInBed"
         ],
         "y": [
          "Id",
          "TotalSteps",
          "TotalDistance",
          "VeryActiveDistance",
          "ModeratelyActiveDistance",
          "LightActiveDistance",
          "SedentaryActiveDistance",
          "VeryActiveMinutes",
          "FairlyActiveMinutes",
          "LightlyActiveMinutes",
          "SedentaryMinutes",
          "Calories",
          "TotalSleepRecords",
          "TotalMinutesAsleep",
          "TotalTimeInBed"
         ],
         "z": {
          "bdata": "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",
          "dtype": "f8",
          "shape": "15, 15"
         },
         "zmax": 1,
         "zmin": -1
        }
       ],
       "layout": {
        "template": {
         "data": {
          "bar": [
           {
            "error_x": {
             "color": "#2a3f5f"
            },
            "error_y": {
             "color": "#2a3f5f"
            },
            "marker": {
             "line": {
              "color": "#E5ECF6",
              "width": 0.5
             },
             "pattern": {
              "fillmode": "overlay",
              "size": 10,
              "solidity": 0.2
             }
            },
            "type": "bar"
           }
          ],
          "barpolar": [
           {
            "marker": {
             "line": {
              "color": "#E5ECF6",
              "width": 0.5
             },
             "pattern": {
              "fillmode": "overlay",
              "size": 10,
              "solidity": 0.2
             }
            },
            "type": "barpolar"
           }
          ],
          "carpet": [
           {
            "aaxis": {
             "endlinecolor": "#2a3f5f",
             "gridcolor": "white",
             "linecolor": "white",
             "minorgridcolor": "white",
             "startlinecolor": "#2a3f5f"
            },
            "baxis": {
             "endlinecolor": "#2a3f5f",
             "gridcolor": "white",
             "linecolor": "white",
             "minorgridcolor": "white",
             "startlinecolor": "#2a3f5f"
            },
            "type": "carpet"
           }
          ],
          "choropleth": [
           {
            "colorbar": {
             "outlinewidth": 0,
             "ticks": ""
            },
            "type": "choropleth"
           }
          ],
          "contour": [
           {
            "colorbar": {
             "outlinewidth": 0,
             "ticks": ""
            },
            "colorscale": [
             [
              0,
              "#0d0887"
             ],
             [
              0.1111111111111111,
              "#46039f"
             ],
             [
              0.2222222222222222,
              "#7201a8"
             ],
             [
              0.3333333333333333,
              "#9c179e"
             ],
             [
              0.4444444444444444,
              "#bd3786"
             ],
             [
              0.5555555555555556,
              "#d8576b"
             ],
             [
              0.6666666666666666,
              "#ed7953"
             ],
             [
              0.7777777777777778,
              "#fb9f3a"
             ],
             [
              0.8888888888888888,
              "#fdca26"
             ],
             [
              1,
              "#f0f921"
             ]
            ],
            "type": "contour"
           }
          ],
          "contourcarpet": [
           {
            "colorbar": {
             "outlinewidth": 0,
             "ticks": ""
            },
            "type": "contourcarpet"
           }
          ],
          "heatmap": [
           {
            "colorbar": {
             "outlinewidth": 0,
             "ticks": ""
            },
            "colorscale": [
             [
              0,
              "#0d0887"
             ],
             [
              0.1111111111111111,
              "#46039f"
             ],
             [
              0.2222222222222222,
              "#7201a8"
             ],
             [
              0.3333333333333333,
              "#9c179e"
             ],
             [
              0.4444444444444444,
              "#bd3786"
             ],
             [
              0.5555555555555556,
              "#d8576b"
             ],
             [
              0.6666666666666666,
              "#ed7953"
             ],
             [
              0.7777777777777778,
              "#fb9f3a"
             ],
             [
              0.8888888888888888,
              "#fdca26"
             ],
             [
              1,
              "#f0f921"
             ]
            ],
            "type": "heatmap"
           }
          ],
          "histogram": [
           {
            "marker": {
             "pattern": {
              "fillmode": "overlay",
              "size": 10,
              "solidity": 0.2
             }
            },
            "type": "histogram"
           }
          ],
          "histogram2d": [
           {
            "colorbar": {
             "outlinewidth": 0,
             "ticks": ""
            },
            "colorscale": [
             [
              0,
              "#0d0887"
             ],
             [
              0.1111111111111111,
              "#46039f"
             ],
             [
              0.2222222222222222,
              "#7201a8"
             ],
             [
              0.3333333333333333,
              "#9c179e"
             ],
             [
              0.4444444444444444,
              "#bd3786"
             ],
             [
              0.5555555555555556,
              "#d8576b"
             ],
             [
              0.6666666666666666,
              "#ed7953"
             ],
             [
              0.7777777777777778,
              "#fb9f3a"
             ],
             [
              0.8888888888888888,
              "#fdca26"
             ],
             [
              1,
              "#f0f921"
             ]
            ],
            "type": "histogram2d"
           }
          ],
          "histogram2dcontour": [
           {
            "colorbar": {
             "outlinewidth": 0,
             "ticks": ""
            },
            "colorscale": [
             [
              0,
              "#0d0887"
             ],
             [
              0.1111111111111111,
              "#46039f"
             ],
             [
              0.2222222222222222,
              "#7201a8"
             ],
             [
              0.3333333333333333,
              "#9c179e"
             ],
             [
              0.4444444444444444,
              "#bd3786"
             ],
             [
              0.5555555555555556,
              "#d8576b"
             ],
             [
              0.6666666666666666,
              "#ed7953"
             ],
             [
              0.7777777777777778,
              "#fb9f3a"
             ],
             [
              0.8888888888888888,
              "#fdca26"
             ],
             [
              1,
              "#f0f921"
             ]
            ],
            "type": "histogram2dcontour"
           }
          ],
          "mesh3d": [
           {
            "colorbar": {
             "outlinewidth": 0,
             "ticks": ""
            },
            "type": "mesh3d"
           }
          ],
          "parcoords": [
           {
            "line": {
             "colorbar": {
              "outlinewidth": 0,
              "ticks": ""
             }
            },
            "type": "parcoords"
           }
          ],
          "pie": [
           {
            "automargin": true,
            "type": "pie"
           }
          ],
          "scatter": [
           {
            "fillpattern": {
             "fillmode": "overlay",
             "size": 10,
             "solidity": 0.2
            },
            "type": "scatter"
           }
          ],
          "scatter3d": [
           {
            "line": {
             "colorbar": {
              "outlinewidth": 0,
              "ticks": ""
             }
            },
            "marker": {
             "colorbar": {
              "outlinewidth": 0,
              "ticks": ""
             }
            },
            "type": "scatter3d"
           }
          ],
          "scattercarpet": [
           {
            "marker": {
             "colorbar": {
              "outlinewidth": 0,
              "ticks": ""
             }
            },
            "type": "scattercarpet"
           }
          ],
          "scattergeo": [
           {
            "marker": {
             "colorbar": {
              "outlinewidth": 0,
              "ticks": ""
             }
            },
            "type": "scattergeo"
           }
          ],
          "scattergl": [
           {
            "marker": {
             "colorbar": {
              "outlinewidth": 0,
              "ticks": ""
             }
            },
            "type": "scattergl"
           }
          ],
          "scattermap": [
           {
            "marker": {
             "colorbar": {
              "outlinewidth": 0,
              "ticks": ""
             }
            },
            "type": "scattermap"
           }
          ],
          "scattermapbox": [
           {
            "marker": {
             "colorbar": {
              "outlinewidth": 0,
              "ticks": ""
             }
            },
            "type": "scattermapbox"
           }
          ],
          "scatterpolar": [
           {
            "marker": {
             "colorbar": {
              "outlinewidth": 0,
              "ticks": ""
             }
            },
            "type": "scatterpolar"
           }
          ],
          "scatterpolargl": [
           {
            "marker": {
             "colorbar": {
              "outlinewidth": 0,
              "ticks": ""
             }
            },
            "type": "scatterpolargl"
           }
          ],
          "scatterternary": [
           {
            "marker": {
             "colorbar": {
              "outlinewidth": 0,
              "ticks": ""
             }
            },
            "type": "scatterternary"
           }
          ],
          "surface": [
           {
            "colorbar": {
             "outlinewidth": 0,
             "ticks": ""
            },
            "colorscale": [
             [
              0,
              "#0d0887"
             ],
             [
              0.1111111111111111,
              "#46039f"
             ],
             [
              0.2222222222222222,
              "#7201a8"
             ],
             [
              0.3333333333333333,
              "#9c179e"
             ],
             [
              0.4444444444444444,
              "#bd3786"
             ],
             [
              0.5555555555555556,
              "#d8576b"
             ],
             [
              0.6666666666666666,
              "#ed7953"
             ],
             [
              0.7777777777777778,
              "#fb9f3a"
             ],
             [
              0.8888888888888888,
              "#fdca26"
             ],
             [
              1,
              "#f0f921"
             ]
            ],
            "type": "surface"
           }
          ],
          "table": [
           {
            "cells": {
             "fill": {
              "color": "#EBF0F8"
             },
             "line": {
              "color": "white"
             }
            },
            "header": {
             "fill": {
              "color": "#C8D4E3"
             },
             "line": {
              "color": "white"
             }
            },
            "type": "table"
           }
          ]
         },
         "layout": {
          "annotationdefaults": {
           "arrowcolor": "#2a3f5f",
           "arrowhead": 0,
           "arrowwidth": 1
          },
          "autotypenumbers": "strict",
          "coloraxis": {
           "colorbar": {
            "outlinewidth": 0,
            "ticks": ""
           }
          },
          "colorscale": {
           "diverging": [
            [
             0,
             "#8e0152"
            ],
            [
             0.1,
             "#c51b7d"
            ],
            [
             0.2,
             "#de77ae"
            ],
            [
             0.3,
             "#f1b6da"
            ],
            [
             0.4,
             "#fde0ef"
            ],
            [
             0.5,
             "#f7f7f7"
            ],
            [
             0.6,
             "#e6f5d0"
            ],
            [
             0.7,
             "#b8e186"
            ],
            [
             0.8,
             "#7fbc41"
            ],
            [
             0.9,
             "#4d9221"
            ],
            [
             1,
             "#276419"
            ]
           ],
           "sequential": [
            [
             0,
             "#0d0887"
            ],
            [
             0.1111111111111111,
             "#46039f"
            ],
            [
             0.2222222222222222,
             "#7201a8"
            ],
            [
             0.3333333333333333,
             "#9c179e"
            ],
            [
             0.4444444444444444,
             "#bd3786"
            ],
            [
             0.5555555555555556,
             "#d8576b"
            ],
            [
             0.6666666666666666,
             "#ed7953"
            ],
            [
             0.7777777777777778,
             "#fb9f3a"
            ],
            [
             0.8888888888888888,
             "#fdca26"
            ],
            [
             1,
             "#f0f921"
            ]
           ],
           "sequentialminus": [
            [
             0,
             "#0d0887"
            ],
            [
             0.1111111111111111,
             "#46039f"
            ],
            [
             0.2222222222222222,
             "#7201a8"
            ],
            [
             0.3333333333333333,
             "#9c179e"
            ],
            [
             0.4444444444444444,
             "#bd3786"
            ],
            [
             0.5555555555555556,
             "#d8576b"
            ],
            [
             0.6666666666666666,
             "#ed7953"
            ],
            [
             0.7777777777777778,
             "#fb9f3a"
            ],
            [
             0.8888888888888888,
             "#fdca26"
            ],
            [
             1,
             "#f0f921"
            ]
           ]
          },
          "colorway": [
           "#636efa",
           "#EF553B",
           "#00cc96",
           "#ab63fa",
           "#FFA15A",
           "#19d3f3",
           "#FF6692",
           "#B6E880",
           "#FF97FF",
           "#FECB52"
          ],
          "font": {
           "color": "#2a3f5f"
          },
          "geo": {
           "bgcolor": "white",
           "lakecolor": "white",
           "landcolor": "#E5ECF6",
           "showlakes": true,
           "showland": true,
           "subunitcolor": "white"
          },
          "hoverlabel": {
           "align": "left"
          },
          "hovermode": "closest",
          "mapbox": {
           "style": "light"
          },
          "paper_bgcolor": "white",
          "plot_bgcolor": "#E5ECF6",
          "polar": {
           "angularaxis": {
            "gridcolor": "white",
            "linecolor": "white",
            "ticks": ""
           },
           "bgcolor": "#E5ECF6",
           "radialaxis": {
            "gridcolor": "white",
            "linecolor": "white",
            "ticks": ""
           }
          },
          "scene": {
           "xaxis": {
            "backgroundcolor": "#E5ECF6",
            "gridcolor": "white",
            "gridwidth": 2,
            "linecolor": "white",
            "showbackground": true,
            "ticks": "",
            "zerolinecolor": "white"
           },
           "yaxis": {
            "backgroundcolor": "#E5ECF6",
            "gridcolor": "white",
            "gridwidth": 2,
            "linecolor": "white",
            "showbackground": true,
            "ticks": "",
            "zerolinecolor": "white"
           },
           "zaxis": {
            "backgroundcolor": "#E5ECF6",
            "gridcolor": "white",
            "gridwidth": 2,
            "linecolor": "white",
            "showbackground": true,
            "ticks": "",
            "zerolinecolor": "white"
           }
          },
          "shapedefaults": {
           "line": {
            "color": "#2a3f5f"
           }
          },
          "ternary": {
           "aaxis": {
            "gridcolor": "white",
            "linecolor": "white",
            "ticks": ""
           },
           "baxis": {
            "gridcolor": "white",
            "linecolor": "white",
            "ticks": ""
           },
           "bgcolor": "#E5ECF6",
           "caxis": {
            "gridcolor": "white",
            "linecolor": "white",
            "ticks": ""
           }
          },
          "title": {
           "x": 0.05
          },
          "xaxis": {
           "automargin": true,
           "gridcolor": "white",
           "linecolor": "white",
           "ticks": "",
           "title": {
            "standoff": 15
           },
           "zerolinecolor": "white",
           "zerolinewidth": 2
          },
          "yaxis": {
           "automargin": true,
           "gridcolor": "white",
           "linecolor": "white",
           "ticks": "",
           "title": {
            "standoff": 15
           },
           "zerolinecolor": "white",
           "zerolinewidth": 2
          }
         }
        },
        "title": {
         "text": "Correlation Matrix of Fitness Data"
        }
       }
      }
     },
     "metadata": {},
     "output_type": "display_data"
    },
    {
     "data": {
      "application/vnd.plotly.v1+json": {
       "config": {
        "plotlyServerURL": "https://plot.ly"
       },
       "data": [
        {
         "hovertemplate": "Total Steps=%{x}<br>Calories Burned=%{marker.color}<extra></extra>",
         "legendgroup": "",
         "marker": {
          "color": {
           "bdata": "wQcFB9EGRwfABvMH+gbvBp0H/AbdB7IHagctB5sHHAfUB8YHpwdoBx0HzAYbB0MH9wbCCQYPFAqrC70G4wYFBqwIZwitCE4KLwmzBfEFlwWkBV0FvgRMBYMGWgV3BXwHeQUoBjkGcQacBuIFpwWaBnoGhgfIBtMFEwZNB3UEogZUBQwH9gfaB1UIWgeYByoJAAiaB0UKiwgvCEUHkgg+B5MBqgXXBZkFvAVZBvkFMAZmBhIGdQXJBWYGdwYiBg8GYQV/BQkGcgbdBeAGrgZcBlIGNgYmBmEGXgZGDusLDAsnD2UNkAoRDG4L/gjBB1wHYAaYCKwIAAdeB5kHWAcKCbwIFAk/CX8ILAg5Bt4IuwjaCG4IAAcpCdQIuAgBAfoLAQwMCsoMxwsLDP0L2A3qDEULcQsCDJkL0wxuC0sMWgxTC7YPXg/FC/ULigtBCC8IkgjACYQIjQeiB7YHZgiACRYI8wg5CZsIlAg7CcYIIAl1CRYISAijCEsIdwnpCIUIwwm8BLYJrwh+B5wGagqDC1ILqAtQCwANQg3FC/wK9QupCmsO0g34C+AKXAvZC10MKwxJDLwLvgsrC2MOrgtkDP0L2ATqB7YGFAnOCCcHdQWTBuwIIgYSCDkI8AbjBfEHLQiCB88HeQi3BdMGzAdECKIGbAh8B9YF4gbgCB8JnQblAk0N9wm2D6UPshDIESkOrQ14DLIPAQ1QDCgRLg0QDN4M/A3YDZURwhHGC9MOwwq8CwEPgQYMC7EI4gcuCugJJBNpCVsKAQkQClcHAAo5CUwKLgelCcoI4ARgCcsJTwjKB7YGugXcBn0I6wf3B/4HfgiDCCYICwqpBpII3AfyB4YIzgjSB8wGcggYCCYIEgg6B5sHewY5CDkJPwegAxwIsQjUCtQJrgpbCYALtQufCR4LAQjACt0KhQouC7MLqgrCCsIKXwpsC7MK5gmQC68KrwTjC+INAw0zDu8PQxBSDiMNDAo9EPwPyw6MEMwPXAu1CqUPsw71C0QLpgtkCikNow3IDiYMxw48Du8KfQqJDgIOzA64B/wHjgerB9kHjAhzCbwKEwjcCh0MUAuqB98H+QgTCA==",
           "dtype": "i2"
          },
          "coloraxis": "coloraxis",
          "symbol": "circle"
         },
         "mode": "markers",
         "name": "",
         "orientation": "v",
         "showlegend": false,
         "type": "scatter",
         "x": {
          "bdata": "ajPvKSImfTHpJZI8MClbJiM4Nyf7O7s1YjOtK1E5aimHOf869jZ/L9guTCf2Lq8v4jFoDCVHrg5EGgQPrg8NCqYCZAHUA7EOiwY+EYETBw3tDvMJRgN4CTYcowljC0Uwog2BF8gX5xi0HXkSGQ5qG6QZhy8GIGEQmBW9Kf4AhCG7ItcTcCiRJ+EoYBU3IDcaYCd8HgVC/yQKJVwXnyw/FSoAmCIzJ9kdMiOTNK8ojy1+MIotzRfPIhovIDepK3wsGRzKG5UptjOuKIhA/zf3NBgwnS0eLRE1EDNbIb4HkBEMKNAtERHmFqoV4icgFogS5AjdIvoidg6UEUcT8Q8rJKsmHCpBKjYfHSDjBC0ksCU0JQEfWA6KKA8lqSMRADYitBk0EgErxSc5KUcnay+0MwMo9SS5K1on9TAPKHAnVzCDJfJYkkPqJzso2SfMDJELhg8eHGkP3AgQCBgI4Q6vGjkNthhLHI0RRBJOGHAU/hpOHWsL2A6iET8UhxybFEsPkSMAA681vCOZHmQNjxktHN0atB5qGYQrlDGRIzQaWSKCGRY7yjrPI9wXhxs/I8omoCfuJOEfpiEfGyI4KCB1KVImwApMLeASfkKsQIsWjwKPDno8mQo6MKItEBAPB8Iqbi4qKYEs3DGyBCwUKSYwMpkQ+zegJUwHwxdbLeY/PhMxDMcf1ROUITcvvTfHL6UmHjGKIE4q1CPWHZQ9+RjNFJUacSb0HkswODQPHSUrVhR+HaUixg9yOO4bIRR/K9EoVkwOIOcsxx3DJEsNeCXTIkcmJQ2oHKAcfRHVDyoUAgXXJxQWDwa7FaEzoSeMLPYpaDY7LuUpP06lE7czwShQKFMxCiphJ04VcDJNL6MnHCkUF58aXBA2MFg8QhoDDhcS4BU1LLUWoyOJIcApHTj9JBkmwA1rJ5MoYytALeA4ZjBEJzAo7CqtMBsytSn+NGQlzQ4EO1dXOU3KHWIwBjR9OMcrVAg+NQ4zrCQsO6gvTRZ3DnUwUD+/HCkVHxiCC5sssBcIIsMedyGFG3QRfwu+ILYZtyPREQQKKAXDBLMJSwzkD30U3gYNGKggBhxTBicHdQnrCA==",
          "dtype": "i2"
         },
         "xaxis": "x",
         "y": {
          "bdata": "wQcFB9EGRwfABvMH+gbvBp0H/AbdB7IHagctB5sHHAfUB8YHpwdoBx0HzAYbB0MH9wbCCQYPFAqrC70G4wYFBqwIZwitCE4KLwmzBfEFlwWkBV0FvgRMBYMGWgV3BXwHeQUoBjkGcQacBuIFpwWaBnoGhgfIBtMFEwZNB3UEogZUBQwH9gfaB1UIWgeYByoJAAiaB0UKiwgvCEUHkgg+B5MBqgXXBZkFvAVZBvkFMAZmBhIGdQXJBWYGdwYiBg8GYQV/BQkGcgbdBeAGrgZcBlIGNgYmBmEGXgZGDusLDAsnD2UNkAoRDG4L/gjBB1wHYAaYCKwIAAdeB5kHWAcKCbwIFAk/CX8ILAg5Bt4IuwjaCG4IAAcpCdQIuAgBAfoLAQwMCsoMxwsLDP0L2A3qDEULcQsCDJkL0wxuC0sMWgxTC7YPXg/FC/ULigtBCC8IkgjACYQIjQeiB7YHZgiACRYI8wg5CZsIlAg7CcYIIAl1CRYISAijCEsIdwnpCIUIwwm8BLYJrwh+B5wGagqDC1ILqAtQCwANQg3FC/wK9QupCmsO0g34C+AKXAvZC10MKwxJDLwLvgsrC2MOrgtkDP0L2ATqB7YGFAnOCCcHdQWTBuwIIgYSCDkI8AbjBfEHLQiCB88HeQi3BdMGzAdECKIGbAh8B9YF4gbgCB8JnQblAk0N9wm2D6UPshDIESkOrQ14DLIPAQ1QDCgRLg0QDN4M/A3YDZURwhHGC9MOwwq8CwEPgQYMC7EI4gcuCugJJBNpCVsKAQkQClcHAAo5CUwKLgelCcoI4ARgCcsJTwjKB7YGugXcBn0I6wf3B/4HfgiDCCYICwqpBpII3AfyB4YIzgjSB8wGcggYCCYIEgg6B5sHewY5CDkJPwegAxwIsQjUCtQJrgpbCYALtQufCR4LAQjACt0KhQouC7MLqgrCCsIKXwpsC7MK5gmQC68KrwTjC+INAw0zDu8PQxBSDiMNDAo9EPwPyw6MEMwPXAu1CqUPsw71C0QLpgtkCikNow3IDiYMxw48Du8KfQqJDgIOzA64B/wHjgerB9kHjAhzCbwKEwjcCh0MUAuqB98H+QgTCA==",
          "dtype": "i2"
         },
         "yaxis": "y"
        },
        {
         "hovertemplate": "<b>OLS trendline</b><br>Calories = 0.0741219 * TotalSteps + 1758.15<br>R<sup>2</sup>=0.165080<br><br>Total Steps=%{x}<br>Calories Burned=%{y} <b>(trend)</b><extra></extra>",
         "legendgroup": "",
         "marker": {
          "symbol": "circle"
         },
         "mode": "lines",
         "name": "",
         "showlegend": false,
         "type": "scatter",
         "x": {
          "bdata": "EQAqAP4AZAGPAqYCAANGA9QDsgTDBOMEAgUoBQ8GUwaLBt4GDwcnB0wHvgcQCBgIVAjcCOQI6wh1CXgJowmzCfMJBAoNCpkKwApjC2sLfwuCC5ELMQxLDGgMzAwHDSUNOQ1LDWQNog3ADQMOGQ5YDnYOdw6PDq4OsQ7NDtgO4Q7tDgQPSw9pD4YPrg/GD9UP5A/xDxAQXBBhEJkQERE+EXQRfRGNEZARlBGiEdERFxI0EkQSeRKIEuASPhNHE4ETpRPVE9cTIRQqFCwUPxRWFHAUfRSbFM0UKRU/FU4VYBWYFaoVuxXgFRQWIBZNFosWtRbmFhQXXBeBF7AXwxfIF80X3BcNGB8YThi2GOcY+RhqGYIZjxmkGbQZthk0GjcaQhpEGpUanxqvGt0a/hofG2obhRuHG8ob7hsGHBkcHhwtHDYcSxyHHKAcqBy/HA8dTh1+HbQdxx3KHdYd2R18HpketB7DHvQeAR82H8cf4R8GIA4gHSAoIDcgiiCoIL4gWyF3IYQhiSGUIaYhCCI2IlkimCKlIrsizyLTIt0i+iIyIz8jkSORI6MjqSO3I7wjzyPUIyskLSSsJMMk7iT1JP0k/yQKJQ8lNCVkJXglgyWgJbAl6SUZJiImKSZHJlImWyZxJqUmqybKJjMnNydEJ0cnTCdaJ2AnYSdrJ3AnkSegJ6EnoyfFJ9cn2SfiJ+onAygMKA8oMCg7KFAocCiKKJMoriivKMEo0SjhKBwpKikwKTkpail1KZUptSm9KcAp5SnvKfYpCiocKkEqTirCKuwqASslK2MrfyuEK6krrSu5K8crNSx8LIEsjCybLJ8s5yweLUAtTC1bLYotjy2dLaIt0C07Lm4u2C72LhovNy9NL2svfy+HL6gvry/HLxgwNjA6MEUwSzBXMGIwZjB1MH4wrTD1MB4xUzF9MZQx3DHiMRsyMDJwMg4zEDNiM2ozoTO0M7YztzMGNDg0kzT3NP40ETU+Na81uzVoNvY2IDe9N/s3/zcdOCI4IzhyOH044DhROYc5yjr/OgQ7FjssO/s7WDx6PJI8lD1QP+Y/iECsQAVCfkKSQyVHVkw5TT9OV1fyWA==",
          "dtype": "i2"
         },
         "xaxis": "x",
         "y": {
          "bdata": "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",
          "dtype": "f8"
         },
         "yaxis": "y"
        }
       ],
       "layout": {
        "coloraxis": {
         "colorbar": {
          "title": {
           "text": "Calories Burned"
          }
         },
         "colorscale": [
          [
           0,
           "#0d0887"
          ],
          [
           0.1111111111111111,
           "#46039f"
          ],
          [
           0.2222222222222222,
           "#7201a8"
          ],
          [
           0.3333333333333333,
           "#9c179e"
          ],
          [
           0.4444444444444444,
           "#bd3786"
          ],
          [
           0.5555555555555556,
           "#d8576b"
          ],
          [
           0.6666666666666666,
           "#ed7953"
          ],
          [
           0.7777777777777778,
           "#fb9f3a"
          ],
          [
           0.8888888888888888,
           "#fdca26"
          ],
          [
           1,
           "#f0f921"
          ]
         ]
        },
        "legend": {
         "tracegroupgap": 0
        },
        "template": {
         "data": {
          "bar": [
           {
            "error_x": {
             "color": "#2a3f5f"
            },
            "error_y": {
             "color": "#2a3f5f"
            },
            "marker": {
             "line": {
              "color": "#E5ECF6",
              "width": 0.5
             },
             "pattern": {
              "fillmode": "overlay",
              "size": 10,
              "solidity": 0.2
             }
            },
            "type": "bar"
           }
          ],
          "barpolar": [
           {
            "marker": {
             "line": {
              "color": "#E5ECF6",
              "width": 0.5
             },
             "pattern": {
              "fillmode": "overlay",
              "size": 10,
              "solidity": 0.2
             }
            },
            "type": "barpolar"
           }
          ],
          "carpet": [
           {
            "aaxis": {
             "endlinecolor": "#2a3f5f",
             "gridcolor": "white",
             "linecolor": "white",
             "minorgridcolor": "white",
             "startlinecolor": "#2a3f5f"
            },
            "baxis": {
             "endlinecolor": "#2a3f5f",
             "gridcolor": "white",
             "linecolor": "white",
             "minorgridcolor": "white",
             "startlinecolor": "#2a3f5f"
            },
            "type": "carpet"
           }
          ],
          "choropleth": [
           {
            "colorbar": {
             "outlinewidth": 0,
             "ticks": ""
            },
            "type": "choropleth"
           }
          ],
          "contour": [
           {
            "colorbar": {
             "outlinewidth": 0,
             "ticks": ""
            },
            "colorscale": [
             [
              0,
              "#0d0887"
             ],
             [
              0.1111111111111111,
              "#46039f"
             ],
             [
              0.2222222222222222,
              "#7201a8"
             ],
             [
              0.3333333333333333,
              "#9c179e"
             ],
             [
              0.4444444444444444,
              "#bd3786"
             ],
             [
              0.5555555555555556,
              "#d8576b"
             ],
             [
              0.6666666666666666,
              "#ed7953"
             ],
             [
              0.7777777777777778,
              "#fb9f3a"
             ],
             [
              0.8888888888888888,
              "#fdca26"
             ],
             [
              1,
              "#f0f921"
             ]
            ],
            "type": "contour"
           }
          ],
          "contourcarpet": [
           {
            "colorbar": {
             "outlinewidth": 0,
             "ticks": ""
            },
            "type": "contourcarpet"
           }
          ],
          "heatmap": [
           {
            "colorbar": {
             "outlinewidth": 0,
             "ticks": ""
            },
            "colorscale": [
             [
              0,
              "#0d0887"
             ],
             [
              0.1111111111111111,
              "#46039f"
             ],
             [
              0.2222222222222222,
              "#7201a8"
             ],
             [
              0.3333333333333333,
              "#9c179e"
             ],
             [
              0.4444444444444444,
              "#bd3786"
             ],
             [
              0.5555555555555556,
              "#d8576b"
             ],
             [
              0.6666666666666666,
              "#ed7953"
             ],
             [
              0.7777777777777778,
              "#fb9f3a"
             ],
             [
              0.8888888888888888,
              "#fdca26"
             ],
             [
              1,
              "#f0f921"
             ]
            ],
            "type": "heatmap"
           }
          ],
          "histogram": [
           {
            "marker": {
             "pattern": {
              "fillmode": "overlay",
              "size": 10,
              "solidity": 0.2
             }
            },
            "type": "histogram"
           }
          ],
          "histogram2d": [
           {
            "colorbar": {
             "outlinewidth": 0,
             "ticks": ""
            },
            "colorscale": [
             [
              0,
              "#0d0887"
             ],
             [
              0.1111111111111111,
              "#46039f"
             ],
             [
              0.2222222222222222,
              "#7201a8"
             ],
             [
              0.3333333333333333,
              "#9c179e"
             ],
             [
              0.4444444444444444,
              "#bd3786"
             ],
             [
              0.5555555555555556,
              "#d8576b"
             ],
             [
              0.6666666666666666,
              "#ed7953"
             ],
             [
              0.7777777777777778,
              "#fb9f3a"
             ],
             [
              0.8888888888888888,
              "#fdca26"
             ],
             [
              1,
              "#f0f921"
             ]
            ],
            "type": "histogram2d"
           }
          ],
          "histogram2dcontour": [
           {
            "colorbar": {
             "outlinewidth": 0,
             "ticks": ""
            },
            "colorscale": [
             [
              0,
              "#0d0887"
             ],
             [
              0.1111111111111111,
              "#46039f"
             ],
             [
              0.2222222222222222,
              "#7201a8"
             ],
             [
              0.3333333333333333,
              "#9c179e"
             ],
             [
              0.4444444444444444,
              "#bd3786"
             ],
             [
              0.5555555555555556,
              "#d8576b"
             ],
             [
              0.6666666666666666,
              "#ed7953"
             ],
             [
              0.7777777777777778,
              "#fb9f3a"
             ],
             [
              0.8888888888888888,
              "#fdca26"
             ],
             [
              1,
              "#f0f921"
             ]
            ],
            "type": "histogram2dcontour"
           }
          ],
          "mesh3d": [
           {
            "colorbar": {
             "outlinewidth": 0,
             "ticks": ""
            },
            "type": "mesh3d"
           }
          ],
          "parcoords": [
           {
            "line": {
             "colorbar": {
              "outlinewidth": 0,
              "ticks": ""
             }
            },
            "type": "parcoords"
           }
          ],
          "pie": [
           {
            "automargin": true,
            "type": "pie"
           }
          ],
          "scatter": [
           {
            "fillpattern": {
             "fillmode": "overlay",
             "size": 10,
             "solidity": 0.2
            },
            "type": "scatter"
           }
          ],
          "scatter3d": [
           {
            "line": {
             "colorbar": {
              "outlinewidth": 0,
              "ticks": ""
             }
            },
            "marker": {
             "colorbar": {
              "outlinewidth": 0,
              "ticks": ""
             }
            },
            "type": "scatter3d"
           }
          ],
          "scattercarpet": [
           {
            "marker": {
             "colorbar": {
              "outlinewidth": 0,
              "ticks": ""
             }
            },
            "type": "scattercarpet"
           }
          ],
          "scattergeo": [
           {
            "marker": {
             "colorbar": {
              "outlinewidth": 0,
              "ticks": ""
             }
            },
            "type": "scattergeo"
           }
          ],
          "scattergl": [
           {
            "marker": {
             "colorbar": {
              "outlinewidth": 0,
              "ticks": ""
             }
            },
            "type": "scattergl"
           }
          ],
          "scattermap": [
           {
            "marker": {
             "colorbar": {
              "outlinewidth": 0,
              "ticks": ""
             }
            },
            "type": "scattermap"
           }
          ],
          "scattermapbox": [
           {
            "marker": {
             "colorbar": {
              "outlinewidth": 0,
              "ticks": ""
             }
            },
            "type": "scattermapbox"
           }
          ],
          "scatterpolar": [
           {
            "marker": {
             "colorbar": {
              "outlinewidth": 0,
              "ticks": ""
             }
            },
            "type": "scatterpolar"
           }
          ],
          "scatterpolargl": [
           {
            "marker": {
             "colorbar": {
              "outlinewidth": 0,
              "ticks": ""
             }
            },
            "type": "scatterpolargl"
           }
          ],
          "scatterternary": [
           {
            "marker": {
             "colorbar": {
              "outlinewidth": 0,
              "ticks": ""
             }
            },
            "type": "scatterternary"
           }
          ],
          "surface": [
           {
            "colorbar": {
             "outlinewidth": 0,
             "ticks": ""
            },
            "colorscale": [
             [
              0,
              "#0d0887"
             ],
             [
              0.1111111111111111,
              "#46039f"
             ],
             [
              0.2222222222222222,
              "#7201a8"
             ],
             [
              0.3333333333333333,
              "#9c179e"
             ],
             [
              0.4444444444444444,
              "#bd3786"
             ],
             [
              0.5555555555555556,
              "#d8576b"
             ],
             [
              0.6666666666666666,
              "#ed7953"
             ],
             [
              0.7777777777777778,
              "#fb9f3a"
             ],
             [
              0.8888888888888888,
              "#fdca26"
             ],
             [
              1,
              "#f0f921"
             ]
            ],
            "type": "surface"
           }
          ],
          "table": [
           {
            "cells": {
             "fill": {
              "color": "#EBF0F8"
             },
             "line": {
              "color": "white"
             }
            },
            "header": {
             "fill": {
              "color": "#C8D4E3"
             },
             "line": {
              "color": "white"
             }
            },
            "type": "table"
           }
          ]
         },
         "layout": {
          "annotationdefaults": {
           "arrowcolor": "#2a3f5f",
           "arrowhead": 0,
           "arrowwidth": 1
          },
          "autotypenumbers": "strict",
          "coloraxis": {
           "colorbar": {
            "outlinewidth": 0,
            "ticks": ""
           }
          },
          "colorscale": {
           "diverging": [
            [
             0,
             "#8e0152"
            ],
            [
             0.1,
             "#c51b7d"
            ],
            [
             0.2,
             "#de77ae"
            ],
            [
             0.3,
             "#f1b6da"
            ],
            [
             0.4,
             "#fde0ef"
            ],
            [
             0.5,
             "#f7f7f7"
            ],
            [
             0.6,
             "#e6f5d0"
            ],
            [
             0.7,
             "#b8e186"
            ],
            [
             0.8,
             "#7fbc41"
            ],
            [
             0.9,
             "#4d9221"
            ],
            [
             1,
             "#276419"
            ]
           ],
           "sequential": [
            [
             0,
             "#0d0887"
            ],
            [
             0.1111111111111111,
             "#46039f"
            ],
            [
             0.2222222222222222,
             "#7201a8"
            ],
            [
             0.3333333333333333,
             "#9c179e"
            ],
            [
             0.4444444444444444,
             "#bd3786"
            ],
            [
             0.5555555555555556,
             "#d8576b"
            ],
            [
             0.6666666666666666,
             "#ed7953"
            ],
            [
             0.7777777777777778,
             "#fb9f3a"
            ],
            [
             0.8888888888888888,
             "#fdca26"
            ],
            [
             1,
             "#f0f921"
            ]
           ],
           "sequentialminus": [
            [
             0,
             "#0d0887"
            ],
            [
             0.1111111111111111,
             "#46039f"
            ],
            [
             0.2222222222222222,
             "#7201a8"
            ],
            [
             0.3333333333333333,
             "#9c179e"
            ],
            [
             0.4444444444444444,
             "#bd3786"
            ],
            [
             0.5555555555555556,
             "#d8576b"
            ],
            [
             0.6666666666666666,
             "#ed7953"
            ],
            [
             0.7777777777777778,
             "#fb9f3a"
            ],
            [
             0.8888888888888888,
             "#fdca26"
            ],
            [
             1,
             "#f0f921"
            ]
           ]
          },
          "colorway": [
           "#636efa",
           "#EF553B",
           "#00cc96",
           "#ab63fa",
           "#FFA15A",
           "#19d3f3",
           "#FF6692",
           "#B6E880",
           "#FF97FF",
           "#FECB52"
          ],
          "font": {
           "color": "#2a3f5f"
          },
          "geo": {
           "bgcolor": "white",
           "lakecolor": "white",
           "landcolor": "#E5ECF6",
           "showlakes": true,
           "showland": true,
           "subunitcolor": "white"
          },
          "hoverlabel": {
           "align": "left"
          },
          "hovermode": "closest",
          "mapbox": {
           "style": "light"
          },
          "paper_bgcolor": "white",
          "plot_bgcolor": "#E5ECF6",
          "polar": {
           "angularaxis": {
            "gridcolor": "white",
            "linecolor": "white",
            "ticks": ""
           },
           "bgcolor": "#E5ECF6",
           "radialaxis": {
            "gridcolor": "white",
            "linecolor": "white",
            "ticks": ""
           }
          },
          "scene": {
           "xaxis": {
            "backgroundcolor": "#E5ECF6",
            "gridcolor": "white",
            "gridwidth": 2,
            "linecolor": "white",
            "showbackground": true,
            "ticks": "",
            "zerolinecolor": "white"
           },
           "yaxis": {
            "backgroundcolor": "#E5ECF6",
            "gridcolor": "white",
            "gridwidth": 2,
            "linecolor": "white",
            "showbackground": true,
            "ticks": "",
            "zerolinecolor": "white"
           },
           "zaxis": {
            "backgroundcolor": "#E5ECF6",
            "gridcolor": "white",
            "gridwidth": 2,
            "linecolor": "white",
            "showbackground": true,
            "ticks": "",
            "zerolinecolor": "white"
           }
          },
          "shapedefaults": {
           "line": {
            "color": "#2a3f5f"
           }
          },
          "ternary": {
           "aaxis": {
            "gridcolor": "white",
            "linecolor": "white",
            "ticks": ""
           },
           "baxis": {
            "gridcolor": "white",
            "linecolor": "white",
            "ticks": ""
           },
           "bgcolor": "#E5ECF6",
           "caxis": {
            "gridcolor": "white",
            "linecolor": "white",
            "ticks": ""
           }
          },
          "title": {
           "x": 0.05
          },
          "xaxis": {
           "automargin": true,
           "gridcolor": "white",
           "linecolor": "white",
           "ticks": "",
           "title": {
            "standoff": 15
           },
           "zerolinecolor": "white",
           "zerolinewidth": 2
          },
          "yaxis": {
           "automargin": true,
           "gridcolor": "white",
           "linecolor": "white",
           "ticks": "",
           "title": {
            "standoff": 15
           },
           "zerolinecolor": "white",
           "zerolinewidth": 2
          }
         }
        },
        "title": {
         "text": "Total Steps vs. Calories Burned"
        },
        "xaxis": {
         "anchor": "y",
         "domain": [
          0,
          1
         ],
         "title": {
          "text": "Total Steps"
         }
        },
        "yaxis": {
         "anchor": "x",
         "domain": [
          0,
          1
         ],
         "title": {
          "text": "Calories Burned"
         }
        }
       }
      }
     },
     "metadata": {},
     "output_type": "display_data"
    },
    {
     "data": {
      "application/vnd.plotly.v1+json": {
       "config": {
        "plotlyServerURL": "https://plot.ly"
       },
       "data": [
        {
         "hovertemplate": "Very Active Minutes=%{x}<br>Minutes Asleep=%{marker.color}<extra></extra>",
         "legendgroup": "",
         "marker": {
          "color": {
           "bdata": "RwGAAZwBVAG8AjABaAFFAWkBrgEVAfUAbgFVAZQBcQEVAREB9wBOAUsBUgJSAX8BHQF3AHwAHAOJAIQC0gJOAu4CjgHbASgBpgD3ARMCIQILAgwCtQHyAc0B3QEIAgoCKwL6AfwBAQLqAT0CDwL/ARoC1AEMAv8BHQITAmUBCwLIAT0A0wG9AcQBLAL0AdEBzAGVAXYBugGxAbQBwAGYAZsBEgEnASMBqAEbAX0BnAHbAJgATAFjAesANgEGAfoAXQEFAU0B7QB/AeYAJAHVAD4BQwHtAAMBOAH1AU0AQgHeAeIAgQFsAboBFwLRAfoBAwLNAQsCOwAVArQC0wHoAfkBHgHxAQsC6gHkAd4B2gHCAfsBWgIXAucBEQIuAfMBqgFrAmMASQGlAboBUgDeASgCPwG3AawBmQEjAnABhgHXAdgBEQI+AGIB1QGtAXIBuQFRAc4BYgCEAbcBtAGEAUgBYQFMAaMBagBCAbcB9gGhAVEBzgF2AZEBaQHJAZUB8wHjAX4AZwCrAHMAewCpAZABgAH9AH4BTwIlAckBxgGpAdEB4AFyAaUBsAG6AbEB3wFHAZwBngGUAQgCswGgAWIBlAG5AccBZQF5AYsCXgEIAmUBkgKPAUIBdwIpArEBnAFbAaUBwgEHA24CmQF8Ab8BowGQAboBOALFAaIBzwG2AaMBsAHdAYgBlgElAg8CwQG/AZ4BUgGAAR8CpQFiAagBaQHLAZwBewENAvwBWwJKAPgBrwF8AVAB7QHRAdoB/AHgAewBYQEeAokBWAL7AYgBkgLyASsC7AHrAKcBhwFuAXYC/AFyAWUBqwG6AdwBogHDAakBEAL/AZABuQHHAbgBsQGmAZsB0gGKAboB0wG7ASoBHQLpAdUBxAEEAk8AOgACAsMB2AF5AdgB7AGGAawBqQK+AeUB1QFiAeUBhAG4AcgBpAFCARIC4QGrAcMBvAHmAUsBSgBSAb8BqAEBAmMCDQKOAYMBfQGMAbkBNQLKAYQBJgITAvoBDwLUAdsBXwGVAbkBfQFDAcsBIQJnAVYBcAHwAcoBEwLmAWsBEAKHAVMBpwGSAY4BVwH3AZ8BBAK3AQ==",
           "dtype": "i2"
          },
          "coloraxis": "coloraxis",
          "symbol": "circle"
         },
         "mode": "markers",
         "name": "",
         "orientation": "v",
         "showlegend": false,
         "type": "scatter",
         "x": {
          "bdata": "GQAVAB0AJAAmADIAHAATACkAJwBJAB8AMAAQADQAIQApADIALQAYACUALAAuAC4AJAAAAAkAAQAAAAAAAAAAAAAAAAAAAAAAAAADAAAAAAAAAAAAAAAAAAAAAAAAAAAAAAAAAAAAAAAAAAAAAAAAAAAAAAAAAAAAAAAAAAAAAAAAAAAAEwABAAEAAQALAAAAFwAJACAAAAAPAAAAGgAAAAAALAAfAAUADwAfAAsABAATAAIAAAAhAAAAHgAyAAcAAAAPACQAKwApABgALwAOAA4AHQAAAAkAAQAEAEEAAAANACYAAAAAAAAAAQAAAAAAAQAAAAAAAAABAAAAAQAAAAgABgANAAYABgAAAAAACAAGAAMAAAACAAMAAwAAAAAABgAAABsAFAATAAcATQA6AA4ADgALABMADgAMACEAIwAMAHgAawAGAA0ACAAAAAAAAAAAAAAAAAAAAAAAAAAAAAAAHQAgAAAAAAAAAAAAGwAeAAAAAgAAABoAAAAAAAAAIgAAAAYADAAPAAAAQgAAAAAAAAABAAMADAAWAAoAAgAEAAkADwAGAAEAAQAOAAwABAAAAAQACAABAAUAAAABAAoAAAATAAAAPQA6AAAAAAAAAEUAAAAvABkAAAAAADMAKAAQADEALgAAAAAAFwAaAAAALAAVAAAAAwA7AD0AAAAIAFYADwB2AHMAuADIAHIAbABXAG4APgAYANIAPQAmAD8AYwBhAM8AwgAlAGEAGQAtAGgALQAHAAAAAAAAABoACwAAAAAAAAAAAAAAAAAAAAAAAAAAAAAAAAARAA4AAAAyAAgAAAAAADIABQANACMAMAA1AB4AOgAAACMAJAAHACYADAAgAAAAEgAVAA8ADgAAAAAAAAArAD4AGAAAAAAAAAA7AB8AIwAeAEMAVwATADoAAABFAEYANwA2ACoAHgBCADkALQBUABQAIABDADkABQBZAH0AeQBBAHQAewA8AEAAAAB1AHgAUgCJAHEAEwAAAHUAWgAEAAsAAwAAAEcAPwBHABMAQgBKAAAAAABHAD8ASAAIAAAAAAAAAAAAAAABAAgAAAAAAAYACgAAAAAAAAAAAA==",
          "dtype": "i2"
         },
         "xaxis": "x",
         "y": {
          "bdata": "RwGAAZwBVAG8AjABaAFFAWkBrgEVAfUAbgFVAZQBcQEVAREB9wBOAUsBUgJSAX8BHQF3AHwAHAOJAIQC0gJOAu4CjgHbASgBpgD3ARMCIQILAgwCtQHyAc0B3QEIAgoCKwL6AfwBAQLqAT0CDwL/ARoC1AEMAv8BHQITAmUBCwLIAT0A0wG9AcQBLAL0AdEBzAGVAXYBugGxAbQBwAGYAZsBEgEnASMBqAEbAX0BnAHbAJgATAFjAesANgEGAfoAXQEFAU0B7QB/AeYAJAHVAD4BQwHtAAMBOAH1AU0AQgHeAeIAgQFsAboBFwLRAfoBAwLNAQsCOwAVArQC0wHoAfkBHgHxAQsC6gHkAd4B2gHCAfsBWgIXAucBEQIuAfMBqgFrAmMASQGlAboBUgDeASgCPwG3AawBmQEjAnABhgHXAdgBEQI+AGIB1QGtAXIBuQFRAc4BYgCEAbcBtAGEAUgBYQFMAaMBagBCAbcB9gGhAVEBzgF2AZEBaQHJAZUB8wHjAX4AZwCrAHMAewCpAZABgAH9AH4BTwIlAckBxgGpAdEB4AFyAaUBsAG6AbEB3wFHAZwBngGUAQgCswGgAWIBlAG5AccBZQF5AYsCXgEIAmUBkgKPAUIBdwIpArEBnAFbAaUBwgEHA24CmQF8Ab8BowGQAboBOALFAaIBzwG2AaMBsAHdAYgBlgElAg8CwQG/AZ4BUgGAAR8CpQFiAagBaQHLAZwBewENAvwBWwJKAPgBrwF8AVAB7QHRAdoB/AHgAewBYQEeAokBWAL7AYgBkgLyASsC7AHrAKcBhwFuAXYC/AFyAWUBqwG6AdwBogHDAakBEAL/AZABuQHHAbgBsQGmAZsB0gGKAboB0wG7ASoBHQLpAdUBxAEEAk8AOgACAsMB2AF5AdgB7AGGAawBqQK+AeUB1QFiAeUBhAG4AcgBpAFCARIC4QGrAcMBvAHmAUsBSgBSAb8BqAEBAmMCDQKOAYMBfQGMAbkBNQLKAYQBJgITAvoBDwLUAdsBXwGVAbkBfQFDAcsBIQJnAVYBcAHwAcoBEwLmAWsBEAKHAVMBpwGSAY4BVwH3AZ8BBAK3AQ==",
          "dtype": "i2"
         },
         "yaxis": "y"
        }
       ],
       "layout": {
        "coloraxis": {
         "colorbar": {
          "title": {
           "text": "Minutes Asleep"
          }
         },
         "colorscale": [
          [
           0,
           "#fee838"
          ],
          [
           0.1111111111111111,
           "#e1cc55"
          ],
          [
           0.2222222222222222,
           "#c3b369"
          ],
          [
           0.3333333333333333,
           "#a59c74"
          ],
          [
           0.4444444444444444,
           "#8a8678"
          ],
          [
           0.5555555555555556,
           "#707173"
          ],
          [
           0.6666666666666666,
           "#575d6d"
          ],
          [
           0.7777777777777778,
           "#3b496c"
          ],
          [
           0.8888888888888888,
           "#123570"
          ],
          [
           1,
           "#00224e"
          ]
         ]
        },
        "legend": {
         "tracegroupgap": 0
        },
        "template": {
         "data": {
          "bar": [
           {
            "error_x": {
             "color": "#2a3f5f"
            },
            "error_y": {
             "color": "#2a3f5f"
            },
            "marker": {
             "line": {
              "color": "#E5ECF6",
              "width": 0.5
             },
             "pattern": {
              "fillmode": "overlay",
              "size": 10,
              "solidity": 0.2
             }
            },
            "type": "bar"
           }
          ],
          "barpolar": [
           {
            "marker": {
             "line": {
              "color": "#E5ECF6",
              "width": 0.5
             },
             "pattern": {
              "fillmode": "overlay",
              "size": 10,
              "solidity": 0.2
             }
            },
            "type": "barpolar"
           }
          ],
          "carpet": [
           {
            "aaxis": {
             "endlinecolor": "#2a3f5f",
             "gridcolor": "white",
             "linecolor": "white",
             "minorgridcolor": "white",
             "startlinecolor": "#2a3f5f"
            },
            "baxis": {
             "endlinecolor": "#2a3f5f",
             "gridcolor": "white",
             "linecolor": "white",
             "minorgridcolor": "white",
             "startlinecolor": "#2a3f5f"
            },
            "type": "carpet"
           }
          ],
          "choropleth": [
           {
            "colorbar": {
             "outlinewidth": 0,
             "ticks": ""
            },
            "type": "choropleth"
           }
          ],
          "contour": [
           {
            "colorbar": {
             "outlinewidth": 0,
             "ticks": ""
            },
            "colorscale": [
             [
              0,
              "#0d0887"
             ],
             [
              0.1111111111111111,
              "#46039f"
             ],
             [
              0.2222222222222222,
              "#7201a8"
             ],
             [
              0.3333333333333333,
              "#9c179e"
             ],
             [
              0.4444444444444444,
              "#bd3786"
             ],
             [
              0.5555555555555556,
              "#d8576b"
             ],
             [
              0.6666666666666666,
              "#ed7953"
             ],
             [
              0.7777777777777778,
              "#fb9f3a"
             ],
             [
              0.8888888888888888,
              "#fdca26"
             ],
             [
              1,
              "#f0f921"
             ]
            ],
            "type": "contour"
           }
          ],
          "contourcarpet": [
           {
            "colorbar": {
             "outlinewidth": 0,
             "ticks": ""
            },
            "type": "contourcarpet"
           }
          ],
          "heatmap": [
           {
            "colorbar": {
             "outlinewidth": 0,
             "ticks": ""
            },
            "colorscale": [
             [
              0,
              "#0d0887"
             ],
             [
              0.1111111111111111,
              "#46039f"
             ],
             [
              0.2222222222222222,
              "#7201a8"
             ],
             [
              0.3333333333333333,
              "#9c179e"
             ],
             [
              0.4444444444444444,
              "#bd3786"
             ],
             [
              0.5555555555555556,
              "#d8576b"
             ],
             [
              0.6666666666666666,
              "#ed7953"
             ],
             [
              0.7777777777777778,
              "#fb9f3a"
             ],
             [
              0.8888888888888888,
              "#fdca26"
             ],
             [
              1,
              "#f0f921"
             ]
            ],
            "type": "heatmap"
           }
          ],
          "histogram": [
           {
            "marker": {
             "pattern": {
              "fillmode": "overlay",
              "size": 10,
              "solidity": 0.2
             }
            },
            "type": "histogram"
           }
          ],
          "histogram2d": [
           {
            "colorbar": {
             "outlinewidth": 0,
             "ticks": ""
            },
            "colorscale": [
             [
              0,
              "#0d0887"
             ],
             [
              0.1111111111111111,
              "#46039f"
             ],
             [
              0.2222222222222222,
              "#7201a8"
             ],
             [
              0.3333333333333333,
              "#9c179e"
             ],
             [
              0.4444444444444444,
              "#bd3786"
             ],
             [
              0.5555555555555556,
              "#d8576b"
             ],
             [
              0.6666666666666666,
              "#ed7953"
             ],
             [
              0.7777777777777778,
              "#fb9f3a"
             ],
             [
              0.8888888888888888,
              "#fdca26"
             ],
             [
              1,
              "#f0f921"
             ]
            ],
            "type": "histogram2d"
           }
          ],
          "histogram2dcontour": [
           {
            "colorbar": {
             "outlinewidth": 0,
             "ticks": ""
            },
            "colorscale": [
             [
              0,
              "#0d0887"
             ],
             [
              0.1111111111111111,
              "#46039f"
             ],
             [
              0.2222222222222222,
              "#7201a8"
             ],
             [
              0.3333333333333333,
              "#9c179e"
             ],
             [
              0.4444444444444444,
              "#bd3786"
             ],
             [
              0.5555555555555556,
              "#d8576b"
             ],
             [
              0.6666666666666666,
              "#ed7953"
             ],
             [
              0.7777777777777778,
              "#fb9f3a"
             ],
             [
              0.8888888888888888,
              "#fdca26"
             ],
             [
              1,
              "#f0f921"
             ]
            ],
            "type": "histogram2dcontour"
           }
          ],
          "mesh3d": [
           {
            "colorbar": {
             "outlinewidth": 0,
             "ticks": ""
            },
            "type": "mesh3d"
           }
          ],
          "parcoords": [
           {
            "line": {
             "colorbar": {
              "outlinewidth": 0,
              "ticks": ""
             }
            },
            "type": "parcoords"
           }
          ],
          "pie": [
           {
            "automargin": true,
            "type": "pie"
           }
          ],
          "scatter": [
           {
            "fillpattern": {
             "fillmode": "overlay",
             "size": 10,
             "solidity": 0.2
            },
            "type": "scatter"
           }
          ],
          "scatter3d": [
           {
            "line": {
             "colorbar": {
              "outlinewidth": 0,
              "ticks": ""
             }
            },
            "marker": {
             "colorbar": {
              "outlinewidth": 0,
              "ticks": ""
             }
            },
            "type": "scatter3d"
           }
          ],
          "scattercarpet": [
           {
            "marker": {
             "colorbar": {
              "outlinewidth": 0,
              "ticks": ""
             }
            },
            "type": "scattercarpet"
           }
          ],
          "scattergeo": [
           {
            "marker": {
             "colorbar": {
              "outlinewidth": 0,
              "ticks": ""
             }
            },
            "type": "scattergeo"
           }
          ],
          "scattergl": [
           {
            "marker": {
             "colorbar": {
              "outlinewidth": 0,
              "ticks": ""
             }
            },
            "type": "scattergl"
           }
          ],
          "scattermap": [
           {
            "marker": {
             "colorbar": {
              "outlinewidth": 0,
              "ticks": ""
             }
            },
            "type": "scattermap"
           }
          ],
          "scattermapbox": [
           {
            "marker": {
             "colorbar": {
              "outlinewidth": 0,
              "ticks": ""
             }
            },
            "type": "scattermapbox"
           }
          ],
          "scatterpolar": [
           {
            "marker": {
             "colorbar": {
              "outlinewidth": 0,
              "ticks": ""
             }
            },
            "type": "scatterpolar"
           }
          ],
          "scatterpolargl": [
           {
            "marker": {
             "colorbar": {
              "outlinewidth": 0,
              "ticks": ""
             }
            },
            "type": "scatterpolargl"
           }
          ],
          "scatterternary": [
           {
            "marker": {
             "colorbar": {
              "outlinewidth": 0,
              "ticks": ""
             }
            },
            "type": "scatterternary"
           }
          ],
          "surface": [
           {
            "colorbar": {
             "outlinewidth": 0,
             "ticks": ""
            },
            "colorscale": [
             [
              0,
              "#0d0887"
             ],
             [
              0.1111111111111111,
              "#46039f"
             ],
             [
              0.2222222222222222,
              "#7201a8"
             ],
             [
              0.3333333333333333,
              "#9c179e"
             ],
             [
              0.4444444444444444,
              "#bd3786"
             ],
             [
              0.5555555555555556,
              "#d8576b"
             ],
             [
              0.6666666666666666,
              "#ed7953"
             ],
             [
              0.7777777777777778,
              "#fb9f3a"
             ],
             [
              0.8888888888888888,
              "#fdca26"
             ],
             [
              1,
              "#f0f921"
             ]
            ],
            "type": "surface"
           }
          ],
          "table": [
           {
            "cells": {
             "fill": {
              "color": "#EBF0F8"
             },
             "line": {
              "color": "white"
             }
            },
            "header": {
             "fill": {
              "color": "#C8D4E3"
             },
             "line": {
              "color": "white"
             }
            },
            "type": "table"
           }
          ]
         },
         "layout": {
          "annotationdefaults": {
           "arrowcolor": "#2a3f5f",
           "arrowhead": 0,
           "arrowwidth": 1
          },
          "autotypenumbers": "strict",
          "coloraxis": {
           "colorbar": {
            "outlinewidth": 0,
            "ticks": ""
           }
          },
          "colorscale": {
           "diverging": [
            [
             0,
             "#8e0152"
            ],
            [
             0.1,
             "#c51b7d"
            ],
            [
             0.2,
             "#de77ae"
            ],
            [
             0.3,
             "#f1b6da"
            ],
            [
             0.4,
             "#fde0ef"
            ],
            [
             0.5,
             "#f7f7f7"
            ],
            [
             0.6,
             "#e6f5d0"
            ],
            [
             0.7,
             "#b8e186"
            ],
            [
             0.8,
             "#7fbc41"
            ],
            [
             0.9,
             "#4d9221"
            ],
            [
             1,
             "#276419"
            ]
           ],
           "sequential": [
            [
             0,
             "#0d0887"
            ],
            [
             0.1111111111111111,
             "#46039f"
            ],
            [
             0.2222222222222222,
             "#7201a8"
            ],
            [
             0.3333333333333333,
             "#9c179e"
            ],
            [
             0.4444444444444444,
             "#bd3786"
            ],
            [
             0.5555555555555556,
             "#d8576b"
            ],
            [
             0.6666666666666666,
             "#ed7953"
            ],
            [
             0.7777777777777778,
             "#fb9f3a"
            ],
            [
             0.8888888888888888,
             "#fdca26"
            ],
            [
             1,
             "#f0f921"
            ]
           ],
           "sequentialminus": [
            [
             0,
             "#0d0887"
            ],
            [
             0.1111111111111111,
             "#46039f"
            ],
            [
             0.2222222222222222,
             "#7201a8"
            ],
            [
             0.3333333333333333,
             "#9c179e"
            ],
            [
             0.4444444444444444,
             "#bd3786"
            ],
            [
             0.5555555555555556,
             "#d8576b"
            ],
            [
             0.6666666666666666,
             "#ed7953"
            ],
            [
             0.7777777777777778,
             "#fb9f3a"
            ],
            [
             0.8888888888888888,
             "#fdca26"
            ],
            [
             1,
             "#f0f921"
            ]
           ]
          },
          "colorway": [
           "#636efa",
           "#EF553B",
           "#00cc96",
           "#ab63fa",
           "#FFA15A",
           "#19d3f3",
           "#FF6692",
           "#B6E880",
           "#FF97FF",
           "#FECB52"
          ],
          "font": {
           "color": "#2a3f5f"
          },
          "geo": {
           "bgcolor": "white",
           "lakecolor": "white",
           "landcolor": "#E5ECF6",
           "showlakes": true,
           "showland": true,
           "subunitcolor": "white"
          },
          "hoverlabel": {
           "align": "left"
          },
          "hovermode": "closest",
          "mapbox": {
           "style": "light"
          },
          "paper_bgcolor": "white",
          "plot_bgcolor": "#E5ECF6",
          "polar": {
           "angularaxis": {
            "gridcolor": "white",
            "linecolor": "white",
            "ticks": ""
           },
           "bgcolor": "#E5ECF6",
           "radialaxis": {
            "gridcolor": "white",
            "linecolor": "white",
            "ticks": ""
           }
          },
          "scene": {
           "xaxis": {
            "backgroundcolor": "#E5ECF6",
            "gridcolor": "white",
            "gridwidth": 2,
            "linecolor": "white",
            "showbackground": true,
            "ticks": "",
            "zerolinecolor": "white"
           },
           "yaxis": {
            "backgroundcolor": "#E5ECF6",
            "gridcolor": "white",
            "gridwidth": 2,
            "linecolor": "white",
            "showbackground": true,
            "ticks": "",
            "zerolinecolor": "white"
           },
           "zaxis": {
            "backgroundcolor": "#E5ECF6",
            "gridcolor": "white",
            "gridwidth": 2,
            "linecolor": "white",
            "showbackground": true,
            "ticks": "",
            "zerolinecolor": "white"
           }
          },
          "shapedefaults": {
           "line": {
            "color": "#2a3f5f"
           }
          },
          "ternary": {
           "aaxis": {
            "gridcolor": "white",
            "linecolor": "white",
            "ticks": ""
           },
           "baxis": {
            "gridcolor": "white",
            "linecolor": "white",
            "ticks": ""
           },
           "bgcolor": "#E5ECF6",
           "caxis": {
            "gridcolor": "white",
            "linecolor": "white",
            "ticks": ""
           }
          },
          "title": {
           "x": 0.05
          },
          "xaxis": {
           "automargin": true,
           "gridcolor": "white",
           "linecolor": "white",
           "ticks": "",
           "title": {
            "standoff": 15
           },
           "zerolinecolor": "white",
           "zerolinewidth": 2
          },
          "yaxis": {
           "automargin": true,
           "gridcolor": "white",
           "linecolor": "white",
           "ticks": "",
           "title": {
            "standoff": 15
           },
           "zerolinecolor": "white",
           "zerolinewidth": 2
          }
         }
        },
        "title": {
         "text": "Sleep Duration vs. Very Active Minutes"
        },
        "xaxis": {
         "anchor": "y",
         "domain": [
          0,
          1
         ],
         "title": {
          "text": "Very Active Minutes"
         }
        },
        "yaxis": {
         "anchor": "x",
         "domain": [
          0,
          1
         ],
         "title": {
          "text": "Minutes Asleep"
         }
        }
       }
      }
     },
     "metadata": {},
     "output_type": "display_data"
    }
   ],
   "source": [
    "# 1. Correlation Heatmap\n",
    "corr = df_merged.corr(numeric_only=True)\n",
    "heatmap = go.Figure(data=go.Heatmap(\n",
    "    z=corr.values,\n",
    "    x=corr.columns,\n",
    "    y=corr.columns,\n",
    "    colorscale='Viridis',\n",
    "    zmin=-1,\n",
    "    zmax=1\n",
    "))\n",
    "heatmap.update_layout(title='Correlation Matrix of Fitness Data')\n",
    "heatmap.show()\n",
    "\n",
    "# 2. Steps vs. Calories\n",
    "scatter_steps_calories = px.scatter(\n",
    "    df_merged, \n",
    "    x='TotalSteps', \n",
    "    y='Calories', \n",
    "    trendline=trendline_kind, \n",
    "    color='Calories',\n",
    "    title='Total Steps vs. Calories Burned',\n",
    "    labels={'TotalSteps': 'Total Steps', 'Calories': 'Calories Burned'}\n",
    ")\n",
    "scatter_steps_calories.show()\n",
    "\n",
    "# 3. Sleep vs. Activity\n",
    "scatter_sleep_activity = px.scatter(\n",
    "    df_merged, \n",
    "    x='VeryActiveMinutes', \n",
    "    y='TotalMinutesAsleep', \n",
    "    color='TotalMinutesAsleep',\n",
    "    color_continuous_scale='Cividis_r',\n",
    "    title='Sleep Duration vs. Very Active Minutes',\n",
    "    labels={'VeryActiveMinutes': 'Very Active Minutes', 'TotalMinutesAsleep': 'Minutes Asleep'}\n",
    ")\n",
    "scatter_sleep_activity.show()"
   ]
  },
  {
   "cell_type": "markdown",
   "metadata": {},
   "source": [
    "# Step 4: Feature Engineering & Preprocessing\n",
    "\n",
    "Before training, we must prepare our data.\n",
    "1.  **Select Features:** Choose the columns (`features`) that will be used to predict the `target`.\n",
    "2.  **Split Data:** Divide the data into training and testing sets.\n",
    "3.  **Scale Features:** Use `StandardScaler` to normalize our features. This is crucial for distance-based algorithms like Ridge and Lasso regression and generally improves model performance."
   ]
  },
  {
   "cell_type": "code",
   "execution_count": 6,
   "metadata": {},
   "outputs": [
    {
     "name": "stdout",
     "output_type": "stream",
     "text": [
      "Training data shape: (328, 7)\n",
      "Testing data shape: (82, 7)\n"
     ]
    }
   ],
   "source": [
    "features = [\n",
    "    'TotalSteps', 'TotalDistance', 'VeryActiveMinutes', \n",
    "    'FairlyActiveMinutes', 'LightlyActiveMinutes', 'SedentaryMinutes',\n",
    "    'TotalMinutesAsleep'\n",
    "]\n",
    "target = 'Calories'\n",
    "\n",
    "X = df_merged[features]\n",
    "y = df_merged[target]\n",
    "\n",
    "# Split the data\n",
    "X_train, X_test, y_train, y_test = train_test_split(X, y, test_size=0.2, random_state=42)\n",
    "\n",
    "# Scale the features\n",
    "scaler = StandardScaler()\n",
    "X_train_scaled = scaler.fit_transform(X_train)\n",
    "X_test_scaled = scaler.transform(X_test)\n",
    "\n",
    "print(f\"Training data shape: {X_train_scaled.shape}\")\n",
    "print(f\"Testing data shape: {X_test_scaled.shape}\")"
   ]
  },
  {
   "cell_type": "markdown",
   "metadata": {},
   "source": [
    "# Step 5: Model Training & Evaluation\n",
    "\n",
    "Here's where we train our 5 different regression models. For each model, we will:\n",
    "1.  **Train** it on the scaled training data.\n",
    "2.  **Make predictions** on the scaled test data.\n",
    "3.  **Evaluate** its performance using Mean Absolute Error (MAE), Mean Squared Error (MSE), and R-squared.\n",
    "\n",
    "Finally, we'll visualize the R-squared scores to easily compare the models."
   ]
  },
  {
   "cell_type": "code",
   "execution_count": 7,
   "metadata": {},
   "outputs": [
    {
     "name": "stdout",
     "output_type": "stream",
     "text": [
      "Model Performance Comparison:\n"
     ]
    },
    {
     "data": {
      "text/html": [
       "<div>\n",
       "<style scoped>\n",
       "    .dataframe tbody tr th:only-of-type {\n",
       "        vertical-align: middle;\n",
       "    }\n",
       "\n",
       "    .dataframe tbody tr th {\n",
       "        vertical-align: top;\n",
       "    }\n",
       "\n",
       "    .dataframe thead th {\n",
       "        text-align: right;\n",
       "    }\n",
       "</style>\n",
       "<table border=\"1\" class=\"dataframe\">\n",
       "  <thead>\n",
       "    <tr style=\"text-align: right;\">\n",
       "      <th></th>\n",
       "      <th>Model</th>\n",
       "      <th>MAE</th>\n",
       "      <th>MSE</th>\n",
       "      <th>R-squared</th>\n",
       "    </tr>\n",
       "  </thead>\n",
       "  <tbody>\n",
       "    <tr>\n",
       "      <th>0</th>\n",
       "      <td>Linear Regression</td>\n",
       "      <td>253.280243</td>\n",
       "      <td>115211.656255</td>\n",
       "      <td>0.705812</td>\n",
       "    </tr>\n",
       "    <tr>\n",
       "      <th>1</th>\n",
       "      <td>Ridge Regression</td>\n",
       "      <td>272.439028</td>\n",
       "      <td>124579.390975</td>\n",
       "      <td>0.681892</td>\n",
       "    </tr>\n",
       "    <tr>\n",
       "      <th>2</th>\n",
       "      <td>Lasso Regression</td>\n",
       "      <td>255.357007</td>\n",
       "      <td>116483.111080</td>\n",
       "      <td>0.702566</td>\n",
       "    </tr>\n",
       "    <tr>\n",
       "      <th>3</th>\n",
       "      <td>Random Forest</td>\n",
       "      <td>292.989634</td>\n",
       "      <td>143805.590516</td>\n",
       "      <td>0.632799</td>\n",
       "    </tr>\n",
       "    <tr>\n",
       "      <th>4</th>\n",
       "      <td>Gradient Boosting</td>\n",
       "      <td>298.646313</td>\n",
       "      <td>148538.596838</td>\n",
       "      <td>0.620714</td>\n",
       "    </tr>\n",
       "  </tbody>\n",
       "</table>\n",
       "</div>"
      ],
      "text/plain": [
       "               Model         MAE            MSE  R-squared\n",
       "0  Linear Regression  253.280243  115211.656255   0.705812\n",
       "1   Ridge Regression  272.439028  124579.390975   0.681892\n",
       "2   Lasso Regression  255.357007  116483.111080   0.702566\n",
       "3      Random Forest  292.989634  143805.590516   0.632799\n",
       "4  Gradient Boosting  298.646313  148538.596838   0.620714"
      ]
     },
     "metadata": {},
     "output_type": "display_data"
    },
    {
     "data": {
      "application/vnd.plotly.v1+json": {
       "config": {
        "plotlyServerURL": "https://plot.ly"
       },
       "data": [
        {
         "hovertemplate": "Model=%{x}<br>R-squared Score=%{y}<extra></extra>",
         "legendgroup": "Linear Regression",
         "marker": {
          "color": "#636efa",
          "pattern": {
           "shape": ""
          }
         },
         "name": "Linear Regression",
         "orientation": "v",
         "showlegend": true,
         "textposition": "auto",
         "type": "bar",
         "x": [
          "Linear Regression"
         ],
         "xaxis": "x",
         "y": {
          "bdata": "3DfjEQSW5j8=",
          "dtype": "f8"
         },
         "yaxis": "y"
        },
        {
         "hovertemplate": "Model=%{x}<br>R-squared Score=%{y}<extra></extra>",
         "legendgroup": "Lasso Regression",
         "marker": {
          "color": "#EF553B",
          "pattern": {
           "shape": ""
          }
         },
         "name": "Lasso Regression",
         "orientation": "v",
         "showlegend": true,
         "textposition": "auto",
         "type": "bar",
         "x": [
          "Lasso Regression"
         ],
         "xaxis": "x",
         "y": {
          "bdata": "4NDtdGt75j8=",
          "dtype": "f8"
         },
         "yaxis": "y"
        },
        {
         "hovertemplate": "Model=%{x}<br>R-squared Score=%{y}<extra></extra>",
         "legendgroup": "Ridge Regression",
         "marker": {
          "color": "#00cc96",
          "pattern": {
           "shape": ""
          }
         },
         "name": "Ridge Regression",
         "orientation": "v",
         "showlegend": true,
         "textposition": "auto",
         "type": "bar",
         "x": [
          "Ridge Regression"
         ],
         "xaxis": "x",
         "y": {
          "bdata": "fbaGDRDS5T8=",
          "dtype": "f8"
         },
         "yaxis": "y"
        },
        {
         "hovertemplate": "Model=%{x}<br>R-squared Score=%{y}<extra></extra>",
         "legendgroup": "Random Forest",
         "marker": {
          "color": "#ab63fa",
          "pattern": {
           "shape": ""
          }
         },
         "name": "Random Forest",
         "orientation": "v",
         "showlegend": true,
         "textposition": "auto",
         "type": "bar",
         "x": [
          "Random Forest"
         ],
         "xaxis": "x",
         "y": {
          "bdata": "v61vK+Q/5D8=",
          "dtype": "f8"
         },
         "yaxis": "y"
        },
        {
         "hovertemplate": "Model=%{x}<br>R-squared Score=%{y}<extra></extra>",
         "legendgroup": "Gradient Boosting",
         "marker": {
          "color": "#FFA15A",
          "pattern": {
           "shape": ""
          }
         },
         "name": "Gradient Boosting",
         "orientation": "v",
         "showlegend": true,
         "textposition": "auto",
         "type": "bar",
         "x": [
          "Gradient Boosting"
         ],
         "xaxis": "x",
         "y": {
          "bdata": "1CvoBePc4z8=",
          "dtype": "f8"
         },
         "yaxis": "y"
        }
       ],
       "layout": {
        "barmode": "relative",
        "legend": {
         "title": {
          "text": "Model"
         },
         "tracegroupgap": 0
        },
        "template": {
         "data": {
          "bar": [
           {
            "error_x": {
             "color": "#2a3f5f"
            },
            "error_y": {
             "color": "#2a3f5f"
            },
            "marker": {
             "line": {
              "color": "#E5ECF6",
              "width": 0.5
             },
             "pattern": {
              "fillmode": "overlay",
              "size": 10,
              "solidity": 0.2
             }
            },
            "type": "bar"
           }
          ],
          "barpolar": [
           {
            "marker": {
             "line": {
              "color": "#E5ECF6",
              "width": 0.5
             },
             "pattern": {
              "fillmode": "overlay",
              "size": 10,
              "solidity": 0.2
             }
            },
            "type": "barpolar"
           }
          ],
          "carpet": [
           {
            "aaxis": {
             "endlinecolor": "#2a3f5f",
             "gridcolor": "white",
             "linecolor": "white",
             "minorgridcolor": "white",
             "startlinecolor": "#2a3f5f"
            },
            "baxis": {
             "endlinecolor": "#2a3f5f",
             "gridcolor": "white",
             "linecolor": "white",
             "minorgridcolor": "white",
             "startlinecolor": "#2a3f5f"
            },
            "type": "carpet"
           }
          ],
          "choropleth": [
           {
            "colorbar": {
             "outlinewidth": 0,
             "ticks": ""
            },
            "type": "choropleth"
           }
          ],
          "contour": [
           {
            "colorbar": {
             "outlinewidth": 0,
             "ticks": ""
            },
            "colorscale": [
             [
              0,
              "#0d0887"
             ],
             [
              0.1111111111111111,
              "#46039f"
             ],
             [
              0.2222222222222222,
              "#7201a8"
             ],
             [
              0.3333333333333333,
              "#9c179e"
             ],
             [
              0.4444444444444444,
              "#bd3786"
             ],
             [
              0.5555555555555556,
              "#d8576b"
             ],
             [
              0.6666666666666666,
              "#ed7953"
             ],
             [
              0.7777777777777778,
              "#fb9f3a"
             ],
             [
              0.8888888888888888,
              "#fdca26"
             ],
             [
              1,
              "#f0f921"
             ]
            ],
            "type": "contour"
           }
          ],
          "contourcarpet": [
           {
            "colorbar": {
             "outlinewidth": 0,
             "ticks": ""
            },
            "type": "contourcarpet"
           }
          ],
          "heatmap": [
           {
            "colorbar": {
             "outlinewidth": 0,
             "ticks": ""
            },
            "colorscale": [
             [
              0,
              "#0d0887"
             ],
             [
              0.1111111111111111,
              "#46039f"
             ],
             [
              0.2222222222222222,
              "#7201a8"
             ],
             [
              0.3333333333333333,
              "#9c179e"
             ],
             [
              0.4444444444444444,
              "#bd3786"
             ],
             [
              0.5555555555555556,
              "#d8576b"
             ],
             [
              0.6666666666666666,
              "#ed7953"
             ],
             [
              0.7777777777777778,
              "#fb9f3a"
             ],
             [
              0.8888888888888888,
              "#fdca26"
             ],
             [
              1,
              "#f0f921"
             ]
            ],
            "type": "heatmap"
           }
          ],
          "histogram": [
           {
            "marker": {
             "pattern": {
              "fillmode": "overlay",
              "size": 10,
              "solidity": 0.2
             }
            },
            "type": "histogram"
           }
          ],
          "histogram2d": [
           {
            "colorbar": {
             "outlinewidth": 0,
             "ticks": ""
            },
            "colorscale": [
             [
              0,
              "#0d0887"
             ],
             [
              0.1111111111111111,
              "#46039f"
             ],
             [
              0.2222222222222222,
              "#7201a8"
             ],
             [
              0.3333333333333333,
              "#9c179e"
             ],
             [
              0.4444444444444444,
              "#bd3786"
             ],
             [
              0.5555555555555556,
              "#d8576b"
             ],
             [
              0.6666666666666666,
              "#ed7953"
             ],
             [
              0.7777777777777778,
              "#fb9f3a"
             ],
             [
              0.8888888888888888,
              "#fdca26"
             ],
             [
              1,
              "#f0f921"
             ]
            ],
            "type": "histogram2d"
           }
          ],
          "histogram2dcontour": [
           {
            "colorbar": {
             "outlinewidth": 0,
             "ticks": ""
            },
            "colorscale": [
             [
              0,
              "#0d0887"
             ],
             [
              0.1111111111111111,
              "#46039f"
             ],
             [
              0.2222222222222222,
              "#7201a8"
             ],
             [
              0.3333333333333333,
              "#9c179e"
             ],
             [
              0.4444444444444444,
              "#bd3786"
             ],
             [
              0.5555555555555556,
              "#d8576b"
             ],
             [
              0.6666666666666666,
              "#ed7953"
             ],
             [
              0.7777777777777778,
              "#fb9f3a"
             ],
             [
              0.8888888888888888,
              "#fdca26"
             ],
             [
              1,
              "#f0f921"
             ]
            ],
            "type": "histogram2dcontour"
           }
          ],
          "mesh3d": [
           {
            "colorbar": {
             "outlinewidth": 0,
             "ticks": ""
            },
            "type": "mesh3d"
           }
          ],
          "parcoords": [
           {
            "line": {
             "colorbar": {
              "outlinewidth": 0,
              "ticks": ""
             }
            },
            "type": "parcoords"
           }
          ],
          "pie": [
           {
            "automargin": true,
            "type": "pie"
           }
          ],
          "scatter": [
           {
            "fillpattern": {
             "fillmode": "overlay",
             "size": 10,
             "solidity": 0.2
            },
            "type": "scatter"
           }
          ],
          "scatter3d": [
           {
            "line": {
             "colorbar": {
              "outlinewidth": 0,
              "ticks": ""
             }
            },
            "marker": {
             "colorbar": {
              "outlinewidth": 0,
              "ticks": ""
             }
            },
            "type": "scatter3d"
           }
          ],
          "scattercarpet": [
           {
            "marker": {
             "colorbar": {
              "outlinewidth": 0,
              "ticks": ""
             }
            },
            "type": "scattercarpet"
           }
          ],
          "scattergeo": [
           {
            "marker": {
             "colorbar": {
              "outlinewidth": 0,
              "ticks": ""
             }
            },
            "type": "scattergeo"
           }
          ],
          "scattergl": [
           {
            "marker": {
             "colorbar": {
              "outlinewidth": 0,
              "ticks": ""
             }
            },
            "type": "scattergl"
           }
          ],
          "scattermap": [
           {
            "marker": {
             "colorbar": {
              "outlinewidth": 0,
              "ticks": ""
             }
            },
            "type": "scattermap"
           }
          ],
          "scattermapbox": [
           {
            "marker": {
             "colorbar": {
              "outlinewidth": 0,
              "ticks": ""
             }
            },
            "type": "scattermapbox"
           }
          ],
          "scatterpolar": [
           {
            "marker": {
             "colorbar": {
              "outlinewidth": 0,
              "ticks": ""
             }
            },
            "type": "scatterpolar"
           }
          ],
          "scatterpolargl": [
           {
            "marker": {
             "colorbar": {
              "outlinewidth": 0,
              "ticks": ""
             }
            },
            "type": "scatterpolargl"
           }
          ],
          "scatterternary": [
           {
            "marker": {
             "colorbar": {
              "outlinewidth": 0,
              "ticks": ""
             }
            },
            "type": "scatterternary"
           }
          ],
          "surface": [
           {
            "colorbar": {
             "outlinewidth": 0,
             "ticks": ""
            },
            "colorscale": [
             [
              0,
              "#0d0887"
             ],
             [
              0.1111111111111111,
              "#46039f"
             ],
             [
              0.2222222222222222,
              "#7201a8"
             ],
             [
              0.3333333333333333,
              "#9c179e"
             ],
             [
              0.4444444444444444,
              "#bd3786"
             ],
             [
              0.5555555555555556,
              "#d8576b"
             ],
             [
              0.6666666666666666,
              "#ed7953"
             ],
             [
              0.7777777777777778,
              "#fb9f3a"
             ],
             [
              0.8888888888888888,
              "#fdca26"
             ],
             [
              1,
              "#f0f921"
             ]
            ],
            "type": "surface"
           }
          ],
          "table": [
           {
            "cells": {
             "fill": {
              "color": "#EBF0F8"
             },
             "line": {
              "color": "white"
             }
            },
            "header": {
             "fill": {
              "color": "#C8D4E3"
             },
             "line": {
              "color": "white"
             }
            },
            "type": "table"
           }
          ]
         },
         "layout": {
          "annotationdefaults": {
           "arrowcolor": "#2a3f5f",
           "arrowhead": 0,
           "arrowwidth": 1
          },
          "autotypenumbers": "strict",
          "coloraxis": {
           "colorbar": {
            "outlinewidth": 0,
            "ticks": ""
           }
          },
          "colorscale": {
           "diverging": [
            [
             0,
             "#8e0152"
            ],
            [
             0.1,
             "#c51b7d"
            ],
            [
             0.2,
             "#de77ae"
            ],
            [
             0.3,
             "#f1b6da"
            ],
            [
             0.4,
             "#fde0ef"
            ],
            [
             0.5,
             "#f7f7f7"
            ],
            [
             0.6,
             "#e6f5d0"
            ],
            [
             0.7,
             "#b8e186"
            ],
            [
             0.8,
             "#7fbc41"
            ],
            [
             0.9,
             "#4d9221"
            ],
            [
             1,
             "#276419"
            ]
           ],
           "sequential": [
            [
             0,
             "#0d0887"
            ],
            [
             0.1111111111111111,
             "#46039f"
            ],
            [
             0.2222222222222222,
             "#7201a8"
            ],
            [
             0.3333333333333333,
             "#9c179e"
            ],
            [
             0.4444444444444444,
             "#bd3786"
            ],
            [
             0.5555555555555556,
             "#d8576b"
            ],
            [
             0.6666666666666666,
             "#ed7953"
            ],
            [
             0.7777777777777778,
             "#fb9f3a"
            ],
            [
             0.8888888888888888,
             "#fdca26"
            ],
            [
             1,
             "#f0f921"
            ]
           ],
           "sequentialminus": [
            [
             0,
             "#0d0887"
            ],
            [
             0.1111111111111111,
             "#46039f"
            ],
            [
             0.2222222222222222,
             "#7201a8"
            ],
            [
             0.3333333333333333,
             "#9c179e"
            ],
            [
             0.4444444444444444,
             "#bd3786"
            ],
            [
             0.5555555555555556,
             "#d8576b"
            ],
            [
             0.6666666666666666,
             "#ed7953"
            ],
            [
             0.7777777777777778,
             "#fb9f3a"
            ],
            [
             0.8888888888888888,
             "#fdca26"
            ],
            [
             1,
             "#f0f921"
            ]
           ]
          },
          "colorway": [
           "#636efa",
           "#EF553B",
           "#00cc96",
           "#ab63fa",
           "#FFA15A",
           "#19d3f3",
           "#FF6692",
           "#B6E880",
           "#FF97FF",
           "#FECB52"
          ],
          "font": {
           "color": "#2a3f5f"
          },
          "geo": {
           "bgcolor": "white",
           "lakecolor": "white",
           "landcolor": "#E5ECF6",
           "showlakes": true,
           "showland": true,
           "subunitcolor": "white"
          },
          "hoverlabel": {
           "align": "left"
          },
          "hovermode": "closest",
          "mapbox": {
           "style": "light"
          },
          "paper_bgcolor": "white",
          "plot_bgcolor": "#E5ECF6",
          "polar": {
           "angularaxis": {
            "gridcolor": "white",
            "linecolor": "white",
            "ticks": ""
           },
           "bgcolor": "#E5ECF6",
           "radialaxis": {
            "gridcolor": "white",
            "linecolor": "white",
            "ticks": ""
           }
          },
          "scene": {
           "xaxis": {
            "backgroundcolor": "#E5ECF6",
            "gridcolor": "white",
            "gridwidth": 2,
            "linecolor": "white",
            "showbackground": true,
            "ticks": "",
            "zerolinecolor": "white"
           },
           "yaxis": {
            "backgroundcolor": "#E5ECF6",
            "gridcolor": "white",
            "gridwidth": 2,
            "linecolor": "white",
            "showbackground": true,
            "ticks": "",
            "zerolinecolor": "white"
           },
           "zaxis": {
            "backgroundcolor": "#E5ECF6",
            "gridcolor": "white",
            "gridwidth": 2,
            "linecolor": "white",
            "showbackground": true,
            "ticks": "",
            "zerolinecolor": "white"
           }
          },
          "shapedefaults": {
           "line": {
            "color": "#2a3f5f"
           }
          },
          "ternary": {
           "aaxis": {
            "gridcolor": "white",
            "linecolor": "white",
            "ticks": ""
           },
           "baxis": {
            "gridcolor": "white",
            "linecolor": "white",
            "ticks": ""
           },
           "bgcolor": "#E5ECF6",
           "caxis": {
            "gridcolor": "white",
            "linecolor": "white",
            "ticks": ""
           }
          },
          "title": {
           "x": 0.05
          },
          "xaxis": {
           "automargin": true,
           "gridcolor": "white",
           "linecolor": "white",
           "ticks": "",
           "title": {
            "standoff": 15
           },
           "zerolinecolor": "white",
           "zerolinewidth": 2
          },
          "yaxis": {
           "automargin": true,
           "gridcolor": "white",
           "linecolor": "white",
           "ticks": "",
           "title": {
            "standoff": 15
           },
           "zerolinecolor": "white",
           "zerolinewidth": 2
          }
         }
        },
        "title": {
         "text": "Comparison of Model Performance (R-squared)"
        },
        "xaxis": {
         "anchor": "y",
         "categoryarray": [
          "Linear Regression",
          "Lasso Regression",
          "Ridge Regression",
          "Random Forest",
          "Gradient Boosting"
         ],
         "categoryorder": "array",
         "domain": [
          0,
          1
         ],
         "title": {
          "text": "Model"
         }
        },
        "yaxis": {
         "anchor": "x",
         "domain": [
          0,
          1
         ],
         "range": [
          0,
          1
         ],
         "title": {
          "text": "R-squared Score"
         }
        }
       }
      }
     },
     "metadata": {},
     "output_type": "display_data"
    }
   ],
   "source": [
    "models = {\n",
    "    'Linear Regression': LinearRegression(),\n",
    "    'Ridge Regression': Ridge(),\n",
    "    'Lasso Regression': Lasso(),\n",
    "    'Random Forest': RandomForestRegressor(random_state=42),\n",
    "    'Gradient Boosting': GradientBoostingRegressor(random_state=42)\n",
    "}\n",
    "\n",
    "results = []\n",
    "\n",
    "for name, model in models.items():\n",
    "    model.fit(X_train_scaled, y_train)\n",
    "    y_pred = model.predict(X_test_scaled)\n",
    "    \n",
    "    mae = mean_absolute_error(y_test, y_pred)\n",
    "    mse = mean_squared_error(y_test, y_pred)\n",
    "    r2 = r2_score(y_test, y_pred)\n",
    "    \n",
    "    results.append({\n",
    "        'Model': name,\n",
    "        'MAE': mae,\n",
    "        'MSE': mse,\n",
    "        'R-squared': r2\n",
    "    })\n",
    "\n",
    "results_df = pd.DataFrame(results)\n",
    "\n",
    "print(\"Model Performance Comparison:\")\n",
    "display(results_df)\n",
    "\n",
    "# Visualize model performance\n",
    "fig = px.bar(\n",
    "    results_df.sort_values('R-squared', ascending=False),\n",
    "    x='Model',\n",
    "    y='R-squared',\n",
    "    color='Model',\n",
    "    title='Comparison of Model Performance (R-squared)',\n",
    "    labels={'R-squared': 'R-squared Score'}\n",
    ")\n",
    "fig.update_layout(yaxis=dict(range=[0,1]))\n",
    "fig.show()"
   ]
  },
  {
   "cell_type": "markdown",
   "metadata": {},
   "source": [
    "# Step 6: Saving the Best Model\n",
    "\n",
    "Based on the R-squared value, we identify the best-performing model. We then save this model and the scaler to disk using `joblib`. These files (`best_model.pkl` and `scaler.pkl`) will be loaded by our Streamlit application to make live predictions."
   ]
  },
  {
   "cell_type": "code",
   "execution_count": 8,
   "metadata": {},
   "outputs": [
    {
     "name": "stdout",
     "output_type": "stream",
     "text": [
      "Best model 'Linear Regression' saved to: d:\\Python Projects\\FitTrack-Data-Analysis\\best_model.pkl\n",
      "Scaler saved to: d:\\Python Projects\\FitTrack-Data-Analysis\\scaler.pkl\n",
      "Cleaned data saved to: d:\\Python Projects\\FitTrack-Data-Analysis\\data\\cleaned_fitness_data.csv\n"
     ]
    }
   ],
   "source": [
    "# Find the best model\n",
    "best_model_name = results_df.loc[results_df['R-squared'].idxmax()]['Model']\n",
    "best_model = models[best_model_name]\n",
    "\n",
    "# Define output paths (in the project root)\n",
    "model_output_path = os.path.join(project_root, 'best_model.pkl')\n",
    "scaler_output_path = os.path.join(project_root, 'scaler.pkl')\n",
    "\n",
    "# Save the model and scaler\n",
    "joblib.dump(best_model, model_output_path)\n",
    "joblib.dump(scaler, scaler_output_path)\n",
    "\n",
    "# Also save the cleaned data for the app\n",
    "cleaned_data_output_path = os.path.join(data_path, 'cleaned_fitness_data.csv')\n",
    "df_merged.to_csv(cleaned_data_output_path, index=False)\n",
    "\n",
    "print(f\"Best model '{best_model_name}' saved to: {model_output_path}\")\n",
    "print(f\"Scaler saved to: {scaler_output_path}\")\n",
    "print(f\"Cleaned data saved to: {cleaned_data_output_path}\")"
   ]
  }
 ],
 "metadata": {
  "kernelspec": {
   "display_name": "Akila",
   "language": "python",
   "name": "python3"
  },
  "language_info": {
   "codemirror_mode": {
    "name": "ipython",
    "version": 3
   },
   "file_extension": ".py",
   "mimetype": "text/x-python",
   "name": "python",
   "nbconvert_exporter": "python",
   "pygments_lexer": "ipython3",
   "version": "3.13.5"
  }
 },
 "nbformat": 4,
 "nbformat_minor": 4
}
